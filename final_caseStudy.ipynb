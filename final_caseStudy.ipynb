{
 "cells": [
  {
   "cell_type": "markdown",
   "metadata": {},
   "source": [
    "# Created By: Kaishma Kansal\n",
    "                       18bcs6103\n",
    "                       AI&ML-1(Group-B)"
   ]
  },
  {
   "cell_type": "markdown",
   "metadata": {},
   "source": [
    "# Predict cancer mortality rates for US counties.\n",
    "Build a multivariate Ordinary Least Squares regression model to predict \"TARGET_deathRate\""
   ]
  },
  {
   "cell_type": "markdown",
   "metadata": {},
   "source": [
    "# Step 1: Reading and Understanding the Data\n",
    "Let us first import NumPy and Pandas and read the housing datase"
   ]
  },
  {
   "cell_type": "code",
   "execution_count": 1,
   "metadata": {},
   "outputs": [],
   "source": [
    "import pandas as pd\n",
    "import numpy as np"
   ]
  },
  {
   "cell_type": "code",
   "execution_count": 2,
   "metadata": {},
   "outputs": [],
   "source": [
    "# Supress Warnings\n",
    "import warnings\n",
    "warnings.filterwarnings('ignore')"
   ]
  },
  {
   "cell_type": "code",
   "execution_count": 3,
   "metadata": {},
   "outputs": [],
   "source": [
    "df= pd.read_csv('https://query.data.world/s/xlh353wvypzveoxm7h4u4c6hnucftk',encoding=\"latin-1\")"
   ]
  },
  {
   "cell_type": "code",
   "execution_count": 4,
   "metadata": {},
   "outputs": [
    {
     "data": {
      "text/html": [
       "<div>\n",
       "<style scoped>\n",
       "    .dataframe tbody tr th:only-of-type {\n",
       "        vertical-align: middle;\n",
       "    }\n",
       "\n",
       "    .dataframe tbody tr th {\n",
       "        vertical-align: top;\n",
       "    }\n",
       "\n",
       "    .dataframe thead th {\n",
       "        text-align: right;\n",
       "    }\n",
       "</style>\n",
       "<table border=\"1\" class=\"dataframe\">\n",
       "  <thead>\n",
       "    <tr style=\"text-align: right;\">\n",
       "      <th></th>\n",
       "      <th>avgAnnCount</th>\n",
       "      <th>avgDeathsPerYear</th>\n",
       "      <th>TARGET_deathRate</th>\n",
       "      <th>incidenceRate</th>\n",
       "      <th>medIncome</th>\n",
       "      <th>popEst2015</th>\n",
       "      <th>povertyPercent</th>\n",
       "      <th>studyPerCap</th>\n",
       "      <th>binnedInc</th>\n",
       "      <th>MedianAge</th>\n",
       "      <th>...</th>\n",
       "      <th>PctPrivateCoverageAlone</th>\n",
       "      <th>PctEmpPrivCoverage</th>\n",
       "      <th>PctPublicCoverage</th>\n",
       "      <th>PctPublicCoverageAlone</th>\n",
       "      <th>PctWhite</th>\n",
       "      <th>PctBlack</th>\n",
       "      <th>PctAsian</th>\n",
       "      <th>PctOtherRace</th>\n",
       "      <th>PctMarriedHouseholds</th>\n",
       "      <th>BirthRate</th>\n",
       "    </tr>\n",
       "  </thead>\n",
       "  <tbody>\n",
       "    <tr>\n",
       "      <th>0</th>\n",
       "      <td>1397.0</td>\n",
       "      <td>469</td>\n",
       "      <td>164.9</td>\n",
       "      <td>489.8</td>\n",
       "      <td>61898</td>\n",
       "      <td>260131</td>\n",
       "      <td>11.2</td>\n",
       "      <td>499.748204</td>\n",
       "      <td>(61494.5, 125635]</td>\n",
       "      <td>39.3</td>\n",
       "      <td>...</td>\n",
       "      <td>NaN</td>\n",
       "      <td>41.6</td>\n",
       "      <td>32.9</td>\n",
       "      <td>14.0</td>\n",
       "      <td>81.780529</td>\n",
       "      <td>2.594728</td>\n",
       "      <td>4.821857</td>\n",
       "      <td>1.843479</td>\n",
       "      <td>52.856076</td>\n",
       "      <td>6.118831</td>\n",
       "    </tr>\n",
       "    <tr>\n",
       "      <th>1</th>\n",
       "      <td>173.0</td>\n",
       "      <td>70</td>\n",
       "      <td>161.3</td>\n",
       "      <td>411.6</td>\n",
       "      <td>48127</td>\n",
       "      <td>43269</td>\n",
       "      <td>18.6</td>\n",
       "      <td>23.111234</td>\n",
       "      <td>(48021.6, 51046.4]</td>\n",
       "      <td>33.0</td>\n",
       "      <td>...</td>\n",
       "      <td>53.8</td>\n",
       "      <td>43.6</td>\n",
       "      <td>31.1</td>\n",
       "      <td>15.3</td>\n",
       "      <td>89.228509</td>\n",
       "      <td>0.969102</td>\n",
       "      <td>2.246233</td>\n",
       "      <td>3.741352</td>\n",
       "      <td>45.372500</td>\n",
       "      <td>4.333096</td>\n",
       "    </tr>\n",
       "    <tr>\n",
       "      <th>2</th>\n",
       "      <td>102.0</td>\n",
       "      <td>50</td>\n",
       "      <td>174.7</td>\n",
       "      <td>349.7</td>\n",
       "      <td>49348</td>\n",
       "      <td>21026</td>\n",
       "      <td>14.6</td>\n",
       "      <td>47.560164</td>\n",
       "      <td>(48021.6, 51046.4]</td>\n",
       "      <td>45.0</td>\n",
       "      <td>...</td>\n",
       "      <td>43.5</td>\n",
       "      <td>34.9</td>\n",
       "      <td>42.1</td>\n",
       "      <td>21.1</td>\n",
       "      <td>90.922190</td>\n",
       "      <td>0.739673</td>\n",
       "      <td>0.465898</td>\n",
       "      <td>2.747358</td>\n",
       "      <td>54.444868</td>\n",
       "      <td>3.729488</td>\n",
       "    </tr>\n",
       "    <tr>\n",
       "      <th>3</th>\n",
       "      <td>427.0</td>\n",
       "      <td>202</td>\n",
       "      <td>194.8</td>\n",
       "      <td>430.4</td>\n",
       "      <td>44243</td>\n",
       "      <td>75882</td>\n",
       "      <td>17.1</td>\n",
       "      <td>342.637253</td>\n",
       "      <td>(42724.4, 45201]</td>\n",
       "      <td>42.8</td>\n",
       "      <td>...</td>\n",
       "      <td>40.3</td>\n",
       "      <td>35.0</td>\n",
       "      <td>45.3</td>\n",
       "      <td>25.0</td>\n",
       "      <td>91.744686</td>\n",
       "      <td>0.782626</td>\n",
       "      <td>1.161359</td>\n",
       "      <td>1.362643</td>\n",
       "      <td>51.021514</td>\n",
       "      <td>4.603841</td>\n",
       "    </tr>\n",
       "    <tr>\n",
       "      <th>4</th>\n",
       "      <td>57.0</td>\n",
       "      <td>26</td>\n",
       "      <td>144.4</td>\n",
       "      <td>350.1</td>\n",
       "      <td>49955</td>\n",
       "      <td>10321</td>\n",
       "      <td>12.5</td>\n",
       "      <td>0.000000</td>\n",
       "      <td>(48021.6, 51046.4]</td>\n",
       "      <td>48.3</td>\n",
       "      <td>...</td>\n",
       "      <td>43.9</td>\n",
       "      <td>35.1</td>\n",
       "      <td>44.0</td>\n",
       "      <td>22.7</td>\n",
       "      <td>94.104024</td>\n",
       "      <td>0.270192</td>\n",
       "      <td>0.665830</td>\n",
       "      <td>0.492135</td>\n",
       "      <td>54.027460</td>\n",
       "      <td>6.796657</td>\n",
       "    </tr>\n",
       "  </tbody>\n",
       "</table>\n",
       "<p>5 rows × 34 columns</p>\n",
       "</div>"
      ],
      "text/plain": [
       "   avgAnnCount  avgDeathsPerYear  TARGET_deathRate  incidenceRate  medIncome  \\\n",
       "0       1397.0               469             164.9          489.8      61898   \n",
       "1        173.0                70             161.3          411.6      48127   \n",
       "2        102.0                50             174.7          349.7      49348   \n",
       "3        427.0               202             194.8          430.4      44243   \n",
       "4         57.0                26             144.4          350.1      49955   \n",
       "\n",
       "   popEst2015  povertyPercent  studyPerCap           binnedInc  MedianAge  \\\n",
       "0      260131            11.2   499.748204   (61494.5, 125635]       39.3   \n",
       "1       43269            18.6    23.111234  (48021.6, 51046.4]       33.0   \n",
       "2       21026            14.6    47.560164  (48021.6, 51046.4]       45.0   \n",
       "3       75882            17.1   342.637253    (42724.4, 45201]       42.8   \n",
       "4       10321            12.5     0.000000  (48021.6, 51046.4]       48.3   \n",
       "\n",
       "     ...      PctPrivateCoverageAlone  PctEmpPrivCoverage PctPublicCoverage  \\\n",
       "0    ...                          NaN                41.6              32.9   \n",
       "1    ...                         53.8                43.6              31.1   \n",
       "2    ...                         43.5                34.9              42.1   \n",
       "3    ...                         40.3                35.0              45.3   \n",
       "4    ...                         43.9                35.1              44.0   \n",
       "\n",
       "   PctPublicCoverageAlone   PctWhite  PctBlack  PctAsian  PctOtherRace  \\\n",
       "0                    14.0  81.780529  2.594728  4.821857      1.843479   \n",
       "1                    15.3  89.228509  0.969102  2.246233      3.741352   \n",
       "2                    21.1  90.922190  0.739673  0.465898      2.747358   \n",
       "3                    25.0  91.744686  0.782626  1.161359      1.362643   \n",
       "4                    22.7  94.104024  0.270192  0.665830      0.492135   \n",
       "\n",
       "   PctMarriedHouseholds  BirthRate  \n",
       "0             52.856076   6.118831  \n",
       "1             45.372500   4.333096  \n",
       "2             54.444868   3.729488  \n",
       "3             51.021514   4.603841  \n",
       "4             54.027460   6.796657  \n",
       "\n",
       "[5 rows x 34 columns]"
      ]
     },
     "execution_count": 4,
     "metadata": {},
     "output_type": "execute_result"
    }
   ],
   "source": [
    "df.head()"
   ]
  },
  {
   "cell_type": "code",
   "execution_count": 5,
   "metadata": {},
   "outputs": [
    {
     "data": {
      "text/plain": [
       "(3047, 34)"
      ]
     },
     "execution_count": 5,
     "metadata": {},
     "output_type": "execute_result"
    }
   ],
   "source": [
    "df.shape"
   ]
  },
  {
   "cell_type": "code",
   "execution_count": 6,
   "metadata": {},
   "outputs": [
    {
     "name": "stdout",
     "output_type": "stream",
     "text": [
      "<class 'pandas.core.frame.DataFrame'>\n",
      "RangeIndex: 3047 entries, 0 to 3046\n",
      "Data columns (total 34 columns):\n",
      "avgAnnCount                3047 non-null float64\n",
      "avgDeathsPerYear           3047 non-null int64\n",
      "TARGET_deathRate           3047 non-null float64\n",
      "incidenceRate              3047 non-null float64\n",
      "medIncome                  3047 non-null int64\n",
      "popEst2015                 3047 non-null int64\n",
      "povertyPercent             3047 non-null float64\n",
      "studyPerCap                3047 non-null float64\n",
      "binnedInc                  3047 non-null object\n",
      "MedianAge                  3047 non-null float64\n",
      "MedianAgeMale              3047 non-null float64\n",
      "MedianAgeFemale            3047 non-null float64\n",
      "Geography                  3047 non-null object\n",
      "AvgHouseholdSize           3047 non-null float64\n",
      "PercentMarried             3047 non-null float64\n",
      "PctNoHS18_24               3047 non-null float64\n",
      "PctHS18_24                 3047 non-null float64\n",
      "PctSomeCol18_24            762 non-null float64\n",
      "PctBachDeg18_24            3047 non-null float64\n",
      "PctHS25_Over               3047 non-null float64\n",
      "PctBachDeg25_Over          3047 non-null float64\n",
      "PctEmployed16_Over         2895 non-null float64\n",
      "PctUnemployed16_Over       3047 non-null float64\n",
      "PctPrivateCoverage         3047 non-null float64\n",
      "PctPrivateCoverageAlone    2438 non-null float64\n",
      "PctEmpPrivCoverage         3047 non-null float64\n",
      "PctPublicCoverage          3047 non-null float64\n",
      "PctPublicCoverageAlone     3047 non-null float64\n",
      "PctWhite                   3047 non-null float64\n",
      "PctBlack                   3047 non-null float64\n",
      "PctAsian                   3047 non-null float64\n",
      "PctOtherRace               3047 non-null float64\n",
      "PctMarriedHouseholds       3047 non-null float64\n",
      "BirthRate                  3047 non-null float64\n",
      "dtypes: float64(29), int64(3), object(2)\n",
      "memory usage: 809.4+ KB\n"
     ]
    }
   ],
   "source": [
    "df.info()"
   ]
  },
  {
   "cell_type": "markdown",
   "metadata": {},
   "source": [
    "# Step 2: Cleaning the Data"
   ]
  },
  {
   "cell_type": "code",
   "execution_count": 7,
   "metadata": {},
   "outputs": [],
   "source": [
    "#dropping that columns which consist of null values\n",
    "df.drop(['PctSomeCol18_24','PctEmployed16_Over','PctPrivateCoverageAlone'], axis=1, inplace = True)"
   ]
  },
  {
   "cell_type": "code",
   "execution_count": 8,
   "metadata": {},
   "outputs": [],
   "source": [
    "#dropping that columns that contains object type values\n",
    "df.drop(['binnedInc','Geography'], axis=1, inplace = True)"
   ]
  },
  {
   "cell_type": "markdown",
   "metadata": {},
   "source": [
    "# Step 3: Visualising the Data and Splitting the Data into Training and Testing Sets"
   ]
  },
  {
   "cell_type": "code",
   "execution_count": 9,
   "metadata": {},
   "outputs": [],
   "source": [
    "import matplotlib.pyplot as plt\n",
    "import seaborn as sns"
   ]
  },
  {
   "cell_type": "markdown",
   "metadata": {},
   "source": [
    "Now we are scaling the values."
   ]
  },
  {
   "cell_type": "code",
   "execution_count": 10,
   "metadata": {},
   "outputs": [
    {
     "name": "stdout",
     "output_type": "stream",
     "text": [
      "avgAnnCount               2.532628\n",
      "avgDeathsPerYear          3.324963\n",
      "TARGET_deathRate         -0.099141\n",
      "incidenceRate            -0.221544\n",
      "medIncome                 0.877682\n",
      "popEst2015                3.682163\n",
      "povertyPercent            0.362679\n",
      "studyPerCap               2.725369\n",
      "MedianAge                 9.071926\n",
      "MedianAgeMale            -0.133856\n",
      "MedianAgeFemale          -0.462213\n",
      "AvgHouseholdSize         -5.512913\n",
      "PercentMarried           -0.946411\n",
      "PctNoHS18_24              0.036089\n",
      "PctHS18_24               -0.432938\n",
      "PctBachDeg18_24          -0.029881\n",
      "PctHS25_Over             -0.709614\n",
      "PctBachDeg25_Over         0.503638\n",
      "PctUnemployed16_Over     -0.049701\n",
      "PctPrivateCoverage       -0.669197\n",
      "PctEmpPrivCoverage       -0.220176\n",
      "PctPublicCoverage        -0.341271\n",
      "PctPublicCoverageAlone   -0.027874\n",
      "PctWhite                 -2.167149\n",
      "PctBlack                  1.232000\n",
      "PctAsian                  2.375669\n",
      "PctOtherRace              1.761463\n",
      "PctMarriedHouseholds     -0.869586\n",
      "BirthRate                 0.024906\n",
      "dtype: float64\n"
     ]
    }
   ],
   "source": [
    "df = df.apply(lambda x: np.sqrt(x))\n",
    "print(df.skew())"
   ]
  },
  {
   "cell_type": "markdown",
   "metadata": {},
   "source": [
    "# OUTLIERS DETECTION AND TREATMENT"
   ]
  },
  {
   "cell_type": "markdown",
   "metadata": {},
   "source": [
    "We are detecting the outliers using the z-Score and then using iqr method"
   ]
  },
  {
   "cell_type": "code",
   "execution_count": 11,
   "metadata": {},
   "outputs": [
    {
     "name": "stdout",
     "output_type": "stream",
     "text": [
      "[[1.16717558 1.2761474  0.46467793 ... 0.2810118  0.26943951 0.32583386]\n",
      " [0.35152394 0.23057752 0.59986688 ... 0.95259294 0.86093896 0.61858522]\n",
      " [0.54296023 0.37745783 0.10396515 ... 0.63021423 0.49889328 0.98096681]\n",
      " ...\n",
      " [1.60137421 0.41019332 0.88257782 ... 1.47582983 0.60021742 1.09883869]\n",
      " [1.60137421 0.36158146 0.09308468 ... 0.40020249 1.06761182 1.00059588]\n",
      " [1.60137421 0.39365502 1.23659674 ... 0.05609468 0.72595282 1.58658735]]\n"
     ]
    }
   ],
   "source": [
    "from scipy import stats\n",
    "df_cancer_z= np.abs(stats.zscore(df))\n",
    "print(df_cancer_z)"
   ]
  },
  {
   "cell_type": "markdown",
   "metadata": {},
   "source": [
    "It is is very difficult to detect it so we are setting threshold value."
   ]
  },
  {
   "cell_type": "code",
   "execution_count": 12,
   "metadata": {},
   "outputs": [
    {
     "name": "stdout",
     "output_type": "stream",
     "text": [
      "(array([   9,    9,   13,   17,   20,   20,   20,   23,   29,   30,   33,\n",
      "         91,   97,  100,  103,  112,  112,  112,  115,  116,  121,  122,\n",
      "        123,  124,  139,  139,  139,  139,  146,  147,  148,  149,  149,\n",
      "        150,  151,  151,  152,  155,  155,  159,  160,  160,  161,  164,\n",
      "        165,  165,  165,  165,  165,  173,  173,  173,  175,  175,  175,\n",
      "        176,  176,  176,  176,  176,  176,  176,  179,  180,  181,  183,\n",
      "        183,  186,  187,  189,  190,  193,  193,  193,  193,  193,  193,\n",
      "        193,  196,  199,  201,  209,  209,  209,  209,  209,  209,  216,\n",
      "        221,  225,  229,  242,  244,  252,  253,  254,  255,  255,  255,\n",
      "        255,  259,  259,  259,  259,  259,  259,  259,  260,  263,  263,\n",
      "        263,  264,  269,  269,  270,  270,  270,  270,  270,  273,  273,\n",
      "        273,  273,  273,  273,  274,  274,  281,  281,  281,  281,  281,\n",
      "        281,  283,  291,  293,  294,  294,  295,  299,  299,  299,  299,\n",
      "        318,  320,  333,  333,  333,  346,  346,  346,  350,  364,  365,\n",
      "        365,  365,  377,  377,  377,  383,  386,  386,  386,  386,  387,\n",
      "        390,  392,  392,  392,  392,  393,  393,  393,  393,  393,  393,\n",
      "        393,  395,  411,  412,  419,  420,  425,  430,  433,  436,  444,\n",
      "        461,  463,  463,  463,  468,  471,  472,  477,  478,  483,  484,\n",
      "        491,  492,  494,  494,  494,  498,  558,  561,  575,  584,  584,\n",
      "        584,  584,  590,  590,  590,  590,  593,  593,  593,  596,  598,\n",
      "        606,  609,  625,  626,  627,  633,  633,  633,  637,  639,  642,\n",
      "        645,  646,  656,  660,  666,  684,  711,  726,  742,  757,  757,\n",
      "        772,  772,  778,  788,  788,  788,  793,  793,  795,  808,  808,\n",
      "        808,  808,  808,  813,  823,  823,  826,  826,  826,  829,  843,\n",
      "        844,  844,  858,  873,  873,  873,  874,  877,  883,  883,  883,\n",
      "        885,  885,  885,  885,  886,  886,  889,  894,  894,  894,  894,\n",
      "        904,  911,  912,  915,  915,  924,  926,  927,  928,  929,  930,\n",
      "        932,  932,  932,  935,  935,  938,  958,  960,  960,  960,  960,\n",
      "        960,  960,  960,  967,  975,  975,  981,  981,  981,  981,  982,\n",
      "        983,  991,  996,  999,  999,  999,  999,  999, 1001, 1001, 1004,\n",
      "       1006, 1012, 1012, 1012, 1012, 1015, 1015, 1015, 1015, 1016, 1016,\n",
      "       1016, 1016, 1018, 1018, 1018, 1018, 1020, 1020, 1020, 1020, 1021,\n",
      "       1021, 1021, 1021, 1021, 1022, 1024, 1024, 1026, 1026, 1026, 1026,\n",
      "       1026, 1026, 1027, 1032, 1035, 1040, 1041, 1041, 1041, 1042, 1050,\n",
      "       1051, 1051, 1058, 1058, 1058, 1059, 1062, 1062, 1064, 1064, 1064,\n",
      "       1064, 1065, 1065, 1065, 1072, 1072, 1072, 1075, 1076, 1081, 1093,\n",
      "       1093, 1093, 1096, 1099, 1100, 1100, 1100, 1100, 1102, 1102, 1104,\n",
      "       1104, 1104, 1104, 1105, 1105, 1136, 1138, 1138, 1139, 1139, 1139,\n",
      "       1142, 1146, 1165, 1170, 1171, 1171, 1176, 1179, 1190, 1190, 1190,\n",
      "       1193, 1199, 1200, 1200, 1201, 1201, 1201, 1201, 1201, 1201, 1202,\n",
      "       1202, 1202, 1202, 1202, 1202, 1202, 1203, 1207, 1207, 1207, 1207,\n",
      "       1217, 1217, 1217, 1217, 1217, 1220, 1220, 1224, 1227, 1227, 1228,\n",
      "       1228, 1228, 1235, 1235, 1235, 1235, 1238, 1238, 1238, 1242, 1242,\n",
      "       1242, 1243, 1245, 1247, 1247, 1247, 1251, 1251, 1251, 1251, 1254,\n",
      "       1254, 1296, 1298, 1298, 1302, 1308, 1308, 1310, 1312, 1324, 1328,\n",
      "       1334, 1337, 1342, 1342, 1346, 1347, 1349, 1349, 1352, 1355, 1355,\n",
      "       1357, 1365, 1378, 1392, 1398, 1399, 1400, 1400, 1400, 1402, 1402,\n",
      "       1406, 1408, 1408, 1408, 1409, 1409, 1409, 1412, 1412, 1412, 1421,\n",
      "       1421, 1426, 1427, 1427, 1427, 1428, 1428, 1428, 1428, 1437, 1437,\n",
      "       1440, 1452, 1452, 1452, 1453, 1458, 1461, 1463, 1467, 1467, 1467,\n",
      "       1473, 1473, 1473, 1475, 1475, 1475, 1477, 1477, 1477, 1478, 1482,\n",
      "       1486, 1486, 1486, 1489, 1489, 1490, 1538, 1552, 1553, 1562, 1579,\n",
      "       1613, 1613, 1613, 1616, 1616, 1625, 1625, 1632, 1654, 1686, 1693,\n",
      "       1694, 1697, 1697, 1697, 1725, 1736, 1741, 1741, 1741, 1742, 1744,\n",
      "       1746, 1746, 1746, 1746, 1746, 1752, 1767, 1770, 1770, 1770, 1770,\n",
      "       1770, 1772, 1793, 1796, 1806, 1808, 1816, 1817, 1823, 1826, 1830,\n",
      "       1832, 1835, 1839, 1839, 1842, 1845, 1847, 1848, 1855, 1860, 1860,\n",
      "       1860, 1862, 1867, 1867, 1874, 1874, 1881, 1881, 1881, 1883, 1887,\n",
      "       1891, 1891, 1895, 1897, 1917, 1925, 1932, 1941, 1941, 1941, 1941,\n",
      "       1941, 1944, 1953, 1957, 1961, 1964, 1967, 1969, 1969, 1969, 1978,\n",
      "       1996, 2000, 2011, 2012, 2021, 2029, 2033, 2033, 2034, 2042, 2044,\n",
      "       2044, 2044, 2047, 2050, 2062, 2063, 2063, 2063, 2065, 2065, 2074,\n",
      "       2077, 2077, 2079, 2082, 2085, 2086, 2086, 2086, 2086, 2097, 2097,\n",
      "       2097, 2100, 2105, 2105, 2105, 2108, 2111, 2115, 2132, 2145, 2152,\n",
      "       2154, 2157, 2175, 2188, 2188, 2188, 2188, 2203, 2203, 2208, 2208,\n",
      "       2218, 2259, 2265, 2283, 2294, 2304, 2312, 2312, 2313, 2313, 2313,\n",
      "       2313, 2313, 2314, 2314, 2315, 2315, 2322, 2329, 2346, 2346, 2346,\n",
      "       2352, 2363, 2365, 2367, 2373, 2373, 2373, 2379, 2379, 2379, 2384,\n",
      "       2386, 2391, 2391, 2391, 2394, 2394, 2394, 2405, 2407, 2422, 2424,\n",
      "       2428, 2431, 2435, 2439, 2443, 2451, 2451, 2451, 2451, 2451, 2455,\n",
      "       2457, 2474, 2474, 2481, 2490, 2506, 2509, 2517, 2539, 2540, 2540,\n",
      "       2540, 2545, 2545, 2545, 2545, 2545, 2548, 2548, 2548, 2548, 2553,\n",
      "       2554, 2554, 2563, 2572, 2573, 2578, 2582, 2589, 2591, 2593, 2595,\n",
      "       2597, 2597, 2599, 2625, 2625, 2625, 2626, 2639, 2642, 2642, 2649,\n",
      "       2668, 2673, 2681, 2681, 2682, 2683, 2683, 2683, 2687, 2687, 2688,\n",
      "       2688, 2688, 2688, 2695, 2695, 2695, 2695, 2698, 2698, 2698, 2698,\n",
      "       2698, 2702, 2705, 2705, 2705, 2705, 2711, 2711, 2713, 2713, 2713,\n",
      "       2713, 2714, 2715, 2715, 2715, 2717, 2719, 2719, 2723, 2725, 2725,\n",
      "       2725, 2726, 2728, 2728, 2728, 2728, 2732, 2732, 2733, 2733, 2733,\n",
      "       2735, 2741, 2741, 2741, 2744, 2744, 2746, 2746, 2748, 2756, 2756,\n",
      "       2763, 2768, 2770, 2774, 2774, 2776, 2776, 2782, 2784, 2784, 2784,\n",
      "       2784, 2784, 2789, 2789, 2789, 2789, 2790, 2793, 2793, 2802, 2810,\n",
      "       2810, 2810, 2811, 2813, 2819, 2819, 2824, 2825, 2825, 2825, 2825,\n",
      "       2825, 2825, 2825, 2825, 2825, 2825, 2825, 2833, 2835, 2849, 2853,\n",
      "       2856, 2858, 2869, 2871, 2872, 2874, 2879, 2882, 2887, 2890, 2895,\n",
      "       2896, 2918, 2925, 2926, 2955, 2966, 2969, 3003, 3003, 3003, 3003,\n",
      "       3010, 3015, 3023, 3034, 3043, 3044, 3046], dtype=int64), array([ 1,  5, 25, 28,  9, 10, 13, 11,  7,  3, 11,  7,  7,  8,  3,  1,  5,\n",
      "       25, 13, 22, 11, 11, 28, 28,  0,  1,  5, 25, 25,  4, 25,  5, 25,  4,\n",
      "        4, 25,  1,  4, 25, 26, 13, 28, 26, 26, 12, 13, 14, 26, 28,  4, 16,\n",
      "       22, 19, 20, 23, 14, 15, 19, 20, 22, 26, 28, 26, 26,  8, 26, 27, 12,\n",
      "       26, 26, 26,  0,  1,  5, 12, 23, 26, 27, 11, 11,  9,  4, 16, 17, 21,\n",
      "       22, 25, 14, 11,  8,  4,  4, 12, 16,  3, 13,  3, 11, 12, 27,  4, 15,\n",
      "       16, 17, 21, 22, 25, 27,  9, 10, 12, 27,  7, 27,  3, 12, 23, 24, 27,\n",
      "        9, 10, 12, 13, 27, 28, 12, 27,  3, 10, 12, 13, 14, 16, 26, 26, 26,\n",
      "        3, 28, 26,  0,  1,  5, 25,  8, 10,  0,  1,  5,  0,  1,  5,  7, 16,\n",
      "        0,  1,  5,  0,  1,  5,  7,  0,  1,  5, 25, 11,  1,  0,  1,  4,  5,\n",
      "        0,  1,  5, 15, 16, 25, 27, 11, 11,  5,  9, 16,  8, 23,  7, 11,  5,\n",
      "       15,  2, 18, 28, 15,  7, 28, 14,  3, 18, 28, 23,  7, 12, 23, 27, 28,\n",
      "       11, 27, 26,  0,  1,  5, 25,  0,  1,  5, 25,  5, 25, 26, 26,  5,  8,\n",
      "        7, 13, 28,  7, 13, 18, 28,  8, 18, 11,  7, 26, 14, 15,  7, 28, 11,\n",
      "        6, 28,  1,  5,  4, 17,  3,  0,  1,  5,  9, 10, 19,  6, 12, 23, 24,\n",
      "       27, 11,  6, 23, 12, 23, 27, 11,  8, 11, 27, 11,  0,  1,  5,  4, 11,\n",
      "        4, 16, 25,  4,  5, 16, 25,  5, 23, 12,  1, 12, 23, 27, 19, 19, 19,\n",
      "        9, 10, 14, 27,  7,  5,  3, 11,  4, 16, 21,  9, 10, 14, 11,  4, 15,\n",
      "       16, 17, 21, 22, 25, 11,  7, 13,  4,  5, 16, 25,  4,  7,  8, 26,  0,\n",
      "        1,  5, 25, 26,  4, 16, 26,  2,  0,  1,  5, 25,  0,  1,  5, 26,  0,\n",
      "        1,  5, 25,  0,  1,  5, 26,  0,  1,  5, 25,  1,  5, 15, 16, 25, 25,\n",
      "        4, 25,  0,  1,  4,  5, 16, 25, 16, 25, 25,  5, 23, 24, 27, 25, 16,\n",
      "       16, 17,  6, 12, 18,  9,  3, 15,  4, 16, 17, 21,  2, 17, 21,  2,  3,\n",
      "       17, 14, 28,  7,  2, 16, 17,  1, 14,  0,  1,  5, 25,  4, 25,  7, 12,\n",
      "       25, 27,  1,  5,  7, 19, 23,  0,  1,  5,  7,  3, 11,  7, 10, 13,  3,\n",
      "       14, 15, 17, 21, 28,  8, 23, 24,  6, 12, 19, 23, 24, 27,  6, 12, 18,\n",
      "       19, 23, 24, 27, 23, 12, 23, 24, 27,  6, 12, 23, 24, 27,  2, 16, 11,\n",
      "       23, 24,  9, 10, 14, 18, 19, 23, 24, 18, 23, 24, 12, 23, 24, 12, 11,\n",
      "       23, 24, 27, 18, 23, 24, 27, 23, 24, 26, 14, 15,  7, 16, 17,  7,  8,\n",
      "        7,  7, 28,  7,  9, 10,  7, 11,  7, 26, 14, 26, 28,  7,  2,  3, 22,\n",
      "       17, 19,  2, 15, 17,  2,  3,  8,  0,  1,  5,  0,  1,  5,  0,  1,  5,\n",
      "       12, 27,  1,  0,  1,  5, 12, 23, 24, 27,  1,  5, 11,  0,  1,  5,  3,\n",
      "        1, 11,  3,  0,  1,  5,  0,  1,  5,  0,  1,  5,  0,  1,  5,  1,  1,\n",
      "        9, 10, 21,  2,  3,  1,  1, 11, 26, 16,  8,  0,  1,  5,  4, 17,  1,\n",
      "        5, 13, 11, 26, 25,  9,  0,  1,  5,  8,  8,  0,  1,  5, 11,  8,  0,\n",
      "        1,  5, 12, 27, 11,  8, 12, 18, 23, 24, 27, 23, 26, 19, 28, 13, 26,\n",
      "       26, 26, 28,  3,  5,  7,  4, 25, 26,  3, 26, 26,  8,  0,  1,  5,  3,\n",
      "        5, 19,  3, 19,  3, 13, 28, 28, 26,  3, 28,  7, 26,  3,  7,  9,  2,\n",
      "        3, 11, 13, 19, 26, 20, 26,  3, 19, 26,  0,  1,  5, 26,  1,  8,  3,\n",
      "       11,  3,  7,  9, 20, 28,  7,  0,  1,  5, 13, 11, 11,  7, 12, 27, 19,\n",
      "       23, 28, 19, 23, 28, 13,  4,  0,  1,  5, 25,  0,  1,  5, 25,  0,  1,\n",
      "        5,  8,  7, 23,  8, 11, 23, 11, 11,  2,  4, 16, 17, 21, 11, 13,  1,\n",
      "        5, 11, 11, 11, 28, 28,  3, 23, 25,  0,  1,  5, 23, 25, 23, 25, 23,\n",
      "       25,  2, 11,  9, 10, 16, 28,  7, 11, 25,  0,  1,  5,  1,  5, 25,  5,\n",
      "       28,  5,  8, 25, 12, 23, 24, 11,  7,  8, 11,  7,  8,  7, 11, 23, 12,\n",
      "       13, 23, 26, 27,  7,  4,  1,  5,  7,  7, 11, 25,  4, 28, 12, 23, 27,\n",
      "        6, 12, 23, 24, 27, 12, 23, 24, 27,  7,  1, 11,  2,  6, 11,  6, 11,\n",
      "        8,  4,  6,  2,  2,  3,  2, 19, 23, 28, 23, 23, 23, 27, 11,  8, 23,\n",
      "        9, 10, 11, 10, 12, 27, 23, 24, 12, 23, 24, 27, 12, 23, 24, 27,  6,\n",
      "       12, 23, 24, 27, 11, 12, 23, 24, 27, 23, 24,  3, 21, 23, 25, 25, 10,\n",
      "       19, 23, 23, 13, 14, 25,  2, 10, 23, 23, 10, 18, 19, 23, 19, 23,  3,\n",
      "       19, 23, 11,  0,  1,  5,  1,  5,  3, 26, 26,  7, 23, 23, 11, 23, 13,\n",
      "       23, 10, 13, 10, 13, 18, 19, 20, 23,  8, 18, 19, 23, 18, 18, 28,  3,\n",
      "        2,  3, 28, 18, 13, 14, 18, 28,  6,  9, 10, 12, 18, 19, 20, 22, 23,\n",
      "       27, 28,  7,  8,  7,  7, 11,  7, 26,  4,  7,  7,  7,  7,  7, 11,  8,\n",
      "        7,  7, 11,  7,  7,  8, 15,  7,  9, 13, 14,  7,  7,  7,  7, 26,  7,\n",
      "       10], dtype=int64))\n"
     ]
    }
   ],
   "source": [
    "threshold = 3\n",
    "print(np.where(df_cancer_z > 3))"
   ]
  },
  {
   "cell_type": "code",
   "execution_count": 13,
   "metadata": {},
   "outputs": [],
   "source": [
    "cancer_df_o = df[(df_cancer_z < 3).all(axis=1)]"
   ]
  },
  {
   "cell_type": "code",
   "execution_count": 14,
   "metadata": {},
   "outputs": [
    {
     "data": {
      "text/plain": [
       "(2512, 29)"
      ]
     },
     "execution_count": 14,
     "metadata": {},
     "output_type": "execute_result"
    }
   ],
   "source": [
    "cancer_df_o.shape"
   ]
  },
  {
   "cell_type": "code",
   "execution_count": 15,
   "metadata": {},
   "outputs": [
    {
     "name": "stdout",
     "output_type": "stream",
     "text": [
      "avgAnnCount                12.257754\n",
      "avgDeathsPerYear            6.136936\n",
      "TARGET_deathRate            1.199331\n",
      "incidenceRate               1.325941\n",
      "medIncome                  30.200386\n",
      "popEst2015                139.414794\n",
      "povertyPercent              0.990453\n",
      "studyPerCap                 7.558426\n",
      "MedianAge                   0.452084\n",
      "MedianAgeMale               0.467634\n",
      "MedianAgeFemale             0.454368\n",
      "AvgHouseholdSize            0.079161\n",
      "PercentMarried              0.538110\n",
      "PctNoHS18_24                1.137865\n",
      "PctHS18_24                  0.920039\n",
      "PctBachDeg18_24             1.050012\n",
      "PctHS25_Over                0.745707\n",
      "PctBachDeg25_Over           0.900093\n",
      "PctUnemployed16_Over        0.741044\n",
      "PctPrivateCoverage          0.870182\n",
      "PctEmpPrivCoverage          0.985613\n",
      "PctPublicCoverage           0.839643\n",
      "PctPublicCoverageAlone      0.881201\n",
      "PctWhite                    0.809752\n",
      "PctBlack                    2.291195\n",
      "PctAsian                    0.534380\n",
      "PctOtherRace                0.855834\n",
      "PctMarriedHouseholds        0.490782\n",
      "BirthRate                   0.412837\n",
      "dtype: float64\n"
     ]
    }
   ],
   "source": [
    "Q1 = cancer_df_o.quantile(0.25)\n",
    "Q3 = cancer_df_o.quantile(0.75)\n",
    "IQR = Q3 - Q1\n",
    "print(IQR)"
   ]
  },
  {
   "cell_type": "code",
   "execution_count": 16,
   "metadata": {},
   "outputs": [
    {
     "name": "stdout",
     "output_type": "stream",
     "text": [
      "      avgAnnCount  avgDeathsPerYear  TARGET_deathRate  incidenceRate  \\\n",
      "0           False             False             False          False   \n",
      "1           False             False             False          False   \n",
      "2           False             False             False          False   \n",
      "3           False             False             False          False   \n",
      "4           False             False             False          False   \n",
      "5           False             False             False          False   \n",
      "6           False             False             False          False   \n",
      "7           False             False             False          False   \n",
      "8           False             False             False          False   \n",
      "10          False             False             False          False   \n",
      "11          False             False             False          False   \n",
      "12          False             False             False          False   \n",
      "14          False             False             False          False   \n",
      "15          False             False             False          False   \n",
      "16          False             False             False          False   \n",
      "18          False             False             False          False   \n",
      "19          False             False             False          False   \n",
      "21          False             False             False          False   \n",
      "22          False             False             False          False   \n",
      "24          False             False             False          False   \n",
      "25          False             False             False          False   \n",
      "26          False             False             False          False   \n",
      "27          False             False             False          False   \n",
      "28          False             False             False          False   \n",
      "31          False             False             False          False   \n",
      "32          False             False             False          False   \n",
      "34          False             False             False          False   \n",
      "35          False             False             False          False   \n",
      "36          False             False             False          False   \n",
      "37          False             False             False          False   \n",
      "...           ...               ...               ...            ...   \n",
      "3011        False             False             False          False   \n",
      "3012        False             False             False          False   \n",
      "3013        False             False             False          False   \n",
      "3014        False             False             False          False   \n",
      "3016        False             False             False          False   \n",
      "3017        False             False             False          False   \n",
      "3018        False             False             False          False   \n",
      "3019        False             False             False          False   \n",
      "3020        False             False             False          False   \n",
      "3021        False             False             False          False   \n",
      "3022        False             False             False          False   \n",
      "3024        False             False             False          False   \n",
      "3025        False             False             False          False   \n",
      "3026        False             False             False          False   \n",
      "3027        False             False             False          False   \n",
      "3028        False             False             False          False   \n",
      "3029        False             False             False          False   \n",
      "3030        False             False             False          False   \n",
      "3031        False             False             False          False   \n",
      "3032        False             False             False          False   \n",
      "3033        False             False             False          False   \n",
      "3035        False             False             False          False   \n",
      "3036        False             False             False          False   \n",
      "3037        False             False             False          False   \n",
      "3038        False             False             False          False   \n",
      "3039        False             False             False          False   \n",
      "3040        False             False             False          False   \n",
      "3041        False             False             False          False   \n",
      "3042        False             False             False          False   \n",
      "3045        False             False             False          False   \n",
      "\n",
      "      medIncome  popEst2015  povertyPercent  studyPerCap  MedianAge  \\\n",
      "0         False       False           False        False      False   \n",
      "1         False       False           False        False      False   \n",
      "2         False       False           False        False      False   \n",
      "3         False       False           False        False      False   \n",
      "4         False       False           False        False      False   \n",
      "5         False       False           False        False      False   \n",
      "6         False       False           False        False      False   \n",
      "7         False       False           False        False      False   \n",
      "8         False       False           False        False      False   \n",
      "10        False       False           False        False      False   \n",
      "11        False       False           False        False      False   \n",
      "12        False       False           False        False      False   \n",
      "14        False       False           False        False      False   \n",
      "15        False       False           False        False      False   \n",
      "16        False       False           False        False      False   \n",
      "18        False       False           False        False      False   \n",
      "19        False       False           False        False      False   \n",
      "21        False       False           False        False      False   \n",
      "22        False       False           False        False      False   \n",
      "24        False       False           False        False      False   \n",
      "25        False       False           False        False      False   \n",
      "26        False       False           False        False      False   \n",
      "27        False       False           False        False      False   \n",
      "28        False       False           False        False      False   \n",
      "31        False       False           False        False      False   \n",
      "32        False       False           False        False      False   \n",
      "34        False       False           False        False      False   \n",
      "35        False       False           False        False      False   \n",
      "36        False       False           False        False      False   \n",
      "37        False       False           False        False      False   \n",
      "...         ...         ...             ...          ...        ...   \n",
      "3011      False       False           False        False      False   \n",
      "3012      False       False           False        False      False   \n",
      "3013      False       False           False        False      False   \n",
      "3014      False       False           False        False      False   \n",
      "3016      False       False           False        False      False   \n",
      "3017      False       False           False        False      False   \n",
      "3018      False       False           False        False      False   \n",
      "3019      False       False           False        False      False   \n",
      "3020      False       False           False        False      False   \n",
      "3021      False       False           False        False      False   \n",
      "3022      False       False           False        False      False   \n",
      "3024      False       False           False        False      False   \n",
      "3025      False       False           False        False      False   \n",
      "3026      False       False           False        False      False   \n",
      "3027      False       False           False        False      False   \n",
      "3028      False       False           False        False      False   \n",
      "3029      False       False           False        False      False   \n",
      "3030      False       False           False        False      False   \n",
      "3031      False       False           False        False      False   \n",
      "3032      False       False           False        False      False   \n",
      "3033      False       False           False        False      False   \n",
      "3035      False       False           False        False      False   \n",
      "3036      False       False           False        False      False   \n",
      "3037      False       False           False        False      False   \n",
      "3038      False       False           False        False       True   \n",
      "3039      False       False           False        False      False   \n",
      "3040      False       False           False        False      False   \n",
      "3041      False       False           False        False      False   \n",
      "3042      False       False           False        False      False   \n",
      "3045      False       False           False        False      False   \n",
      "\n",
      "      MedianAgeMale    ...      PctPrivateCoverage  PctEmpPrivCoverage  \\\n",
      "0             False    ...                   False               False   \n",
      "1             False    ...                   False               False   \n",
      "2             False    ...                   False               False   \n",
      "3             False    ...                   False               False   \n",
      "4             False    ...                   False               False   \n",
      "5             False    ...                   False               False   \n",
      "6             False    ...                   False               False   \n",
      "7             False    ...                   False               False   \n",
      "8             False    ...                   False               False   \n",
      "10            False    ...                   False               False   \n",
      "11            False    ...                   False               False   \n",
      "12            False    ...                   False               False   \n",
      "14            False    ...                   False               False   \n",
      "15            False    ...                   False               False   \n",
      "16            False    ...                   False               False   \n",
      "18            False    ...                   False               False   \n",
      "19            False    ...                   False               False   \n",
      "21            False    ...                   False               False   \n",
      "22            False    ...                   False               False   \n",
      "24            False    ...                   False               False   \n",
      "25            False    ...                   False               False   \n",
      "26            False    ...                   False               False   \n",
      "27            False    ...                   False               False   \n",
      "28            False    ...                   False               False   \n",
      "31            False    ...                   False               False   \n",
      "32            False    ...                   False               False   \n",
      "34            False    ...                   False               False   \n",
      "35            False    ...                   False               False   \n",
      "36            False    ...                   False               False   \n",
      "37            False    ...                   False               False   \n",
      "...             ...    ...                     ...                 ...   \n",
      "3011          False    ...                   False               False   \n",
      "3012          False    ...                   False               False   \n",
      "3013          False    ...                   False               False   \n",
      "3014          False    ...                   False               False   \n",
      "3016          False    ...                   False               False   \n",
      "3017          False    ...                   False               False   \n",
      "3018          False    ...                   False               False   \n",
      "3019          False    ...                   False               False   \n",
      "3020          False    ...                   False               False   \n",
      "3021          False    ...                   False               False   \n",
      "3022          False    ...                   False               False   \n",
      "3024          False    ...                   False               False   \n",
      "3025          False    ...                   False               False   \n",
      "3026          False    ...                   False               False   \n",
      "3027          False    ...                   False               False   \n",
      "3028          False    ...                   False               False   \n",
      "3029          False    ...                   False               False   \n",
      "3030          False    ...                   False               False   \n",
      "3031          False    ...                   False               False   \n",
      "3032          False    ...                   False               False   \n",
      "3033          False    ...                   False               False   \n",
      "3035          False    ...                   False               False   \n",
      "3036          False    ...                   False               False   \n",
      "3037          False    ...                   False               False   \n",
      "3038           True    ...                   False               False   \n",
      "3039          False    ...                   False               False   \n",
      "3040          False    ...                   False               False   \n",
      "3041          False    ...                   False               False   \n",
      "3042          False    ...                   False               False   \n",
      "3045          False    ...                   False               False   \n",
      "\n",
      "      PctPublicCoverage  PctPublicCoverageAlone  PctWhite  PctBlack  PctAsian  \\\n",
      "0                 False                   False     False     False     False   \n",
      "1                 False                   False     False     False     False   \n",
      "2                 False                   False     False     False     False   \n",
      "3                 False                   False     False     False     False   \n",
      "4                 False                   False     False     False     False   \n",
      "5                 False                   False     False     False     False   \n",
      "6                 False                   False     False     False     False   \n",
      "7                 False                   False     False     False     False   \n",
      "8                 False                   False     False     False     False   \n",
      "10                False                   False     False     False     False   \n",
      "11                False                   False     False     False     False   \n",
      "12                False                   False     False     False     False   \n",
      "14                False                   False     False     False     False   \n",
      "15                False                   False     False     False     False   \n",
      "16                False                   False     False     False     False   \n",
      "18                False                   False     False     False     False   \n",
      "19                False                   False     False     False     False   \n",
      "21                False                   False     False     False     False   \n",
      "22                False                   False     False     False     False   \n",
      "24                False                   False     False     False     False   \n",
      "25                False                   False     False     False     False   \n",
      "26                False                   False     False     False     False   \n",
      "27                False                   False     False     False     False   \n",
      "28                False                   False     False     False     False   \n",
      "31                False                   False     False     False     False   \n",
      "32                False                   False     False     False     False   \n",
      "34                False                   False     False     False     False   \n",
      "35                False                   False     False     False     False   \n",
      "36                False                   False     False     False     False   \n",
      "37                False                   False     False     False     False   \n",
      "...                 ...                     ...       ...       ...       ...   \n",
      "3011              False                   False     False     False     False   \n",
      "3012              False                   False     False     False     False   \n",
      "3013              False                   False     False     False     False   \n",
      "3014              False                   False     False     False     False   \n",
      "3016              False                   False     False     False     False   \n",
      "3017              False                   False     False     False     False   \n",
      "3018              False                   False     False     False     False   \n",
      "3019              False                   False     False     False     False   \n",
      "3020              False                   False     False     False     False   \n",
      "3021              False                   False     False     False     False   \n",
      "3022              False                   False     False     False     False   \n",
      "3024              False                   False     False     False     False   \n",
      "3025              False                   False     False     False     False   \n",
      "3026              False                   False     False     False     False   \n",
      "3027              False                   False     False     False     False   \n",
      "3028              False                   False     False     False     False   \n",
      "3029              False                   False     False     False     False   \n",
      "3030              False                   False     False     False     False   \n",
      "3031              False                   False     False     False     False   \n",
      "3032              False                   False     False     False     False   \n",
      "3033              False                   False     False     False     False   \n",
      "3035              False                   False     False     False     False   \n",
      "3036              False                   False     False     False     False   \n",
      "3037              False                   False     False     False     False   \n",
      "3038              False                   False     False     False     False   \n",
      "3039              False                   False     False     False     False   \n",
      "3040              False                   False     False     False     False   \n",
      "3041              False                   False     False     False     False   \n",
      "3042              False                   False     False     False     False   \n",
      "3045              False                   False     False     False     False   \n",
      "\n",
      "      PctOtherRace  PctMarriedHouseholds  BirthRate  \n",
      "0            False                 False      False  \n",
      "1            False                 False      False  \n",
      "2            False                 False      False  \n",
      "3            False                 False      False  \n",
      "4            False                 False      False  \n",
      "5            False                 False      False  \n",
      "6            False                 False      False  \n",
      "7            False                 False      False  \n",
      "8            False                 False      False  \n",
      "10           False                 False      False  \n",
      "11           False                 False      False  \n",
      "12           False                 False      False  \n",
      "14           False                 False      False  \n",
      "15           False                 False      False  \n",
      "16           False                 False      False  \n",
      "18           False                 False      False  \n",
      "19           False                 False      False  \n",
      "21           False                 False      False  \n",
      "22           False                 False      False  \n",
      "24           False                 False      False  \n",
      "25           False                 False      False  \n",
      "26           False                 False      False  \n",
      "27           False                 False      False  \n",
      "28           False                 False      False  \n",
      "31           False                 False      False  \n",
      "32           False                 False      False  \n",
      "34           False                 False      False  \n",
      "35           False                  True      False  \n",
      "36           False                 False      False  \n",
      "37           False                 False      False  \n",
      "...            ...                   ...        ...  \n",
      "3011         False                 False      False  \n",
      "3012         False                 False      False  \n",
      "3013         False                 False      False  \n",
      "3014         False                 False      False  \n",
      "3016         False                 False      False  \n",
      "3017         False                 False      False  \n",
      "3018         False                 False      False  \n",
      "3019         False                 False      False  \n",
      "3020         False                 False      False  \n",
      "3021         False                 False      False  \n",
      "3022         False                 False      False  \n",
      "3024         False                 False      False  \n",
      "3025         False                 False      False  \n",
      "3026         False                 False      False  \n",
      "3027         False                 False      False  \n",
      "3028         False                 False      False  \n",
      "3029         False                 False      False  \n",
      "3030         False                 False      False  \n",
      "3031         False                 False      False  \n",
      "3032         False                 False      False  \n",
      "3033         False                 False      False  \n",
      "3035         False                 False      False  \n",
      "3036         False                 False      False  \n",
      "3037         False                 False      False  \n",
      "3038         False                 False      False  \n",
      "3039         False                 False      False  \n",
      "3040         False                 False      False  \n",
      "3041         False                 False      False  \n",
      "3042         False                 False      False  \n",
      "3045         False                 False      False  \n",
      "\n",
      "[2512 rows x 29 columns]\n"
     ]
    },
    {
     "ename": "TypeError",
     "evalue": "Could not compare [None] with block values",
     "output_type": "error",
     "traceback": [
      "\u001b[1;31m---------------------------------------------------------------------------\u001b[0m",
      "\u001b[1;31mTypeError\u001b[0m                                 Traceback (most recent call last)",
      "\u001b[1;32m<ipython-input-16-a377120965bf>\u001b[0m in \u001b[0;36m<module>\u001b[1;34m\u001b[0m\n\u001b[1;32m----> 1\u001b[1;33m \u001b[0mprint\u001b[0m\u001b[1;33m(\u001b[0m\u001b[0mcancer_df_o\u001b[0m \u001b[1;33m<\u001b[0m \u001b[1;33m(\u001b[0m\u001b[0mQ1\u001b[0m \u001b[1;33m-\u001b[0m \u001b[1;36m1.5\u001b[0m \u001b[1;33m*\u001b[0m \u001b[0mIQR\u001b[0m\u001b[1;33m)\u001b[0m\u001b[1;33m)\u001b[0m \u001b[1;33m|\u001b[0m\u001b[1;33m(\u001b[0m\u001b[0mcancer_df_o\u001b[0m \u001b[1;33m>\u001b[0m \u001b[1;33m(\u001b[0m\u001b[0mQ3\u001b[0m \u001b[1;33m+\u001b[0m \u001b[1;36m1.5\u001b[0m \u001b[1;33m*\u001b[0m \u001b[0mIQR\u001b[0m\u001b[1;33m)\u001b[0m\u001b[1;33m)\u001b[0m\u001b[1;33m\u001b[0m\u001b[1;33m\u001b[0m\u001b[0m\n\u001b[0m",
      "\u001b[1;32m~\\Anaconda3\\lib\\site-packages\\pandas\\core\\ops.py\u001b[0m in \u001b[0;36mf\u001b[1;34m(self, other, axis, level, fill_value)\u001b[0m\n\u001b[0;32m   1557\u001b[0m                 \u001b[0mself\u001b[0m \u001b[1;33m=\u001b[0m \u001b[0mself\u001b[0m\u001b[1;33m.\u001b[0m\u001b[0mfillna\u001b[0m\u001b[1;33m(\u001b[0m\u001b[0mfill_value\u001b[0m\u001b[1;33m)\u001b[0m\u001b[1;33m\u001b[0m\u001b[1;33m\u001b[0m\u001b[0m\n\u001b[0;32m   1558\u001b[0m \u001b[1;33m\u001b[0m\u001b[0m\n\u001b[1;32m-> 1559\u001b[1;33m             \u001b[1;32mreturn\u001b[0m \u001b[0mself\u001b[0m\u001b[1;33m.\u001b[0m\u001b[0m_combine_const\u001b[0m\u001b[1;33m(\u001b[0m\u001b[0mother\u001b[0m\u001b[1;33m,\u001b[0m \u001b[0mna_op\u001b[0m\u001b[1;33m,\u001b[0m \u001b[0mtry_cast\u001b[0m\u001b[1;33m=\u001b[0m\u001b[1;32mTrue\u001b[0m\u001b[1;33m)\u001b[0m\u001b[1;33m\u001b[0m\u001b[1;33m\u001b[0m\u001b[0m\n\u001b[0m\u001b[0;32m   1560\u001b[0m \u001b[1;33m\u001b[0m\u001b[0m\n\u001b[0;32m   1561\u001b[0m     \u001b[0mf\u001b[0m\u001b[1;33m.\u001b[0m\u001b[0m__name__\u001b[0m \u001b[1;33m=\u001b[0m \u001b[0mop_name\u001b[0m\u001b[1;33m\u001b[0m\u001b[1;33m\u001b[0m\u001b[0m\n",
      "\u001b[1;32m~\\Anaconda3\\lib\\site-packages\\pandas\\core\\frame.py\u001b[0m in \u001b[0;36m_combine_const\u001b[1;34m(self, other, func, errors, try_cast)\u001b[0m\n\u001b[0;32m   4777\u001b[0m         new_data = self._data.eval(func=func, other=other,\n\u001b[0;32m   4778\u001b[0m                                    \u001b[0merrors\u001b[0m\u001b[1;33m=\u001b[0m\u001b[0merrors\u001b[0m\u001b[1;33m,\u001b[0m\u001b[1;33m\u001b[0m\u001b[1;33m\u001b[0m\u001b[0m\n\u001b[1;32m-> 4779\u001b[1;33m                                    try_cast=try_cast)\n\u001b[0m\u001b[0;32m   4780\u001b[0m         \u001b[1;32mreturn\u001b[0m \u001b[0mself\u001b[0m\u001b[1;33m.\u001b[0m\u001b[0m_constructor\u001b[0m\u001b[1;33m(\u001b[0m\u001b[0mnew_data\u001b[0m\u001b[1;33m)\u001b[0m\u001b[1;33m\u001b[0m\u001b[1;33m\u001b[0m\u001b[0m\n\u001b[0;32m   4781\u001b[0m \u001b[1;33m\u001b[0m\u001b[0m\n",
      "\u001b[1;32m~\\Anaconda3\\lib\\site-packages\\pandas\\core\\internals.py\u001b[0m in \u001b[0;36meval\u001b[1;34m(self, **kwargs)\u001b[0m\n\u001b[0;32m   3685\u001b[0m \u001b[1;33m\u001b[0m\u001b[0m\n\u001b[0;32m   3686\u001b[0m     \u001b[1;32mdef\u001b[0m \u001b[0meval\u001b[0m\u001b[1;33m(\u001b[0m\u001b[0mself\u001b[0m\u001b[1;33m,\u001b[0m \u001b[1;33m**\u001b[0m\u001b[0mkwargs\u001b[0m\u001b[1;33m)\u001b[0m\u001b[1;33m:\u001b[0m\u001b[1;33m\u001b[0m\u001b[1;33m\u001b[0m\u001b[0m\n\u001b[1;32m-> 3687\u001b[1;33m         \u001b[1;32mreturn\u001b[0m \u001b[0mself\u001b[0m\u001b[1;33m.\u001b[0m\u001b[0mapply\u001b[0m\u001b[1;33m(\u001b[0m\u001b[1;34m'eval'\u001b[0m\u001b[1;33m,\u001b[0m \u001b[1;33m**\u001b[0m\u001b[0mkwargs\u001b[0m\u001b[1;33m)\u001b[0m\u001b[1;33m\u001b[0m\u001b[1;33m\u001b[0m\u001b[0m\n\u001b[0m\u001b[0;32m   3688\u001b[0m \u001b[1;33m\u001b[0m\u001b[0m\n\u001b[0;32m   3689\u001b[0m     \u001b[1;32mdef\u001b[0m \u001b[0mquantile\u001b[0m\u001b[1;33m(\u001b[0m\u001b[0mself\u001b[0m\u001b[1;33m,\u001b[0m \u001b[1;33m**\u001b[0m\u001b[0mkwargs\u001b[0m\u001b[1;33m)\u001b[0m\u001b[1;33m:\u001b[0m\u001b[1;33m\u001b[0m\u001b[1;33m\u001b[0m\u001b[0m\n",
      "\u001b[1;32m~\\Anaconda3\\lib\\site-packages\\pandas\\core\\internals.py\u001b[0m in \u001b[0;36mapply\u001b[1;34m(self, f, axes, filter, do_integrity_check, consolidate, **kwargs)\u001b[0m\n\u001b[0;32m   3579\u001b[0m \u001b[1;33m\u001b[0m\u001b[0m\n\u001b[0;32m   3580\u001b[0m             \u001b[0mkwargs\u001b[0m\u001b[1;33m[\u001b[0m\u001b[1;34m'mgr'\u001b[0m\u001b[1;33m]\u001b[0m \u001b[1;33m=\u001b[0m \u001b[0mself\u001b[0m\u001b[1;33m\u001b[0m\u001b[1;33m\u001b[0m\u001b[0m\n\u001b[1;32m-> 3581\u001b[1;33m             \u001b[0mapplied\u001b[0m \u001b[1;33m=\u001b[0m \u001b[0mgetattr\u001b[0m\u001b[1;33m(\u001b[0m\u001b[0mb\u001b[0m\u001b[1;33m,\u001b[0m \u001b[0mf\u001b[0m\u001b[1;33m)\u001b[0m\u001b[1;33m(\u001b[0m\u001b[1;33m**\u001b[0m\u001b[0mkwargs\u001b[0m\u001b[1;33m)\u001b[0m\u001b[1;33m\u001b[0m\u001b[1;33m\u001b[0m\u001b[0m\n\u001b[0m\u001b[0;32m   3582\u001b[0m             \u001b[0mresult_blocks\u001b[0m \u001b[1;33m=\u001b[0m \u001b[0m_extend_blocks\u001b[0m\u001b[1;33m(\u001b[0m\u001b[0mapplied\u001b[0m\u001b[1;33m,\u001b[0m \u001b[0mresult_blocks\u001b[0m\u001b[1;33m)\u001b[0m\u001b[1;33m\u001b[0m\u001b[1;33m\u001b[0m\u001b[0m\n\u001b[0;32m   3583\u001b[0m \u001b[1;33m\u001b[0m\u001b[0m\n",
      "\u001b[1;32m~\\Anaconda3\\lib\\site-packages\\pandas\\core\\internals.py\u001b[0m in \u001b[0;36meval\u001b[1;34m(self, func, other, errors, try_cast, mgr)\u001b[0m\n\u001b[0;32m   1435\u001b[0m \u001b[1;33m\u001b[0m\u001b[0m\n\u001b[0;32m   1436\u001b[0m                 raise TypeError('Could not compare [{other!r}] '\n\u001b[1;32m-> 1437\u001b[1;33m                                 'with block values'.format(other=other))\n\u001b[0m\u001b[0;32m   1438\u001b[0m \u001b[1;33m\u001b[0m\u001b[0m\n\u001b[0;32m   1439\u001b[0m         \u001b[1;31m# transpose if needed\u001b[0m\u001b[1;33m\u001b[0m\u001b[1;33m\u001b[0m\u001b[1;33m\u001b[0m\u001b[0m\n",
      "\u001b[1;31mTypeError\u001b[0m: Could not compare [None] with block values"
     ]
    }
   ],
   "source": [
    "print(cancer_df_o < (Q1 - 1.5 * IQR)) |(cancer_df_o > (Q3 + 1.5 * IQR))"
   ]
  },
  {
   "cell_type": "code",
   "execution_count": 17,
   "metadata": {},
   "outputs": [
    {
     "data": {
      "text/plain": [
       "(1426, 29)"
      ]
     },
     "execution_count": 17,
     "metadata": {},
     "output_type": "execute_result"
    }
   ],
   "source": [
    "cancer_df_f = cancer_df_o[~((cancer_df_o < (Q1 - 1.5 * IQR)) |(cancer_df_o > (Q3 + 1.5 * IQR))).any(axis=1)]\n",
    "cancer_df_f.shape"
   ]
  },
  {
   "cell_type": "code",
   "execution_count": 18,
   "metadata": {},
   "outputs": [],
   "source": [
    "import matplotlib.pyplot as plt\n",
    "import seaborn as sns"
   ]
  },
  {
   "cell_type": "markdown",
   "metadata": {},
   "source": [
    "# Dividing into X and Y sets for the model building"
   ]
  },
  {
   "cell_type": "code",
   "execution_count": 19,
   "metadata": {},
   "outputs": [],
   "source": [
    "from sklearn.model_selection import train_test_split\n",
    "\n",
    "# We specify this so that the train and test data set always have the same rows, respectively\n",
    "np.random.seed(0)\n",
    "df_train, df_test = train_test_split(cancer_df_f, train_size = 0.7, test_size = 0.3, random_state = 100)"
   ]
  },
  {
   "cell_type": "code",
   "execution_count": 20,
   "metadata": {},
   "outputs": [],
   "source": [
    "from sklearn.preprocessing import MinMaxScaler"
   ]
  },
  {
   "cell_type": "code",
   "execution_count": 21,
   "metadata": {},
   "outputs": [],
   "source": [
    "scaler = MinMaxScaler()"
   ]
  },
  {
   "cell_type": "code",
   "execution_count": 22,
   "metadata": {},
   "outputs": [],
   "source": [
    "df_train[:]=scaler.fit_transform(df_train[:])"
   ]
  },
  {
   "cell_type": "code",
   "execution_count": 23,
   "metadata": {},
   "outputs": [
    {
     "data": {
      "text/html": [
       "<div>\n",
       "<style scoped>\n",
       "    .dataframe tbody tr th:only-of-type {\n",
       "        vertical-align: middle;\n",
       "    }\n",
       "\n",
       "    .dataframe tbody tr th {\n",
       "        vertical-align: top;\n",
       "    }\n",
       "\n",
       "    .dataframe thead th {\n",
       "        text-align: right;\n",
       "    }\n",
       "</style>\n",
       "<table border=\"1\" class=\"dataframe\">\n",
       "  <thead>\n",
       "    <tr style=\"text-align: right;\">\n",
       "      <th></th>\n",
       "      <th>avgAnnCount</th>\n",
       "      <th>avgDeathsPerYear</th>\n",
       "      <th>TARGET_deathRate</th>\n",
       "      <th>incidenceRate</th>\n",
       "      <th>medIncome</th>\n",
       "      <th>popEst2015</th>\n",
       "      <th>povertyPercent</th>\n",
       "      <th>studyPerCap</th>\n",
       "      <th>MedianAge</th>\n",
       "      <th>MedianAgeMale</th>\n",
       "      <th>...</th>\n",
       "      <th>PctPrivateCoverage</th>\n",
       "      <th>PctEmpPrivCoverage</th>\n",
       "      <th>PctPublicCoverage</th>\n",
       "      <th>PctPublicCoverageAlone</th>\n",
       "      <th>PctWhite</th>\n",
       "      <th>PctBlack</th>\n",
       "      <th>PctAsian</th>\n",
       "      <th>PctOtherRace</th>\n",
       "      <th>PctMarriedHouseholds</th>\n",
       "      <th>BirthRate</th>\n",
       "    </tr>\n",
       "  </thead>\n",
       "  <tbody>\n",
       "    <tr>\n",
       "      <th>313</th>\n",
       "      <td>0.376126</td>\n",
       "      <td>0.452765</td>\n",
       "      <td>0.570635</td>\n",
       "      <td>0.238591</td>\n",
       "      <td>0.425185</td>\n",
       "      <td>0.419128</td>\n",
       "      <td>0.512001</td>\n",
       "      <td>0.000000</td>\n",
       "      <td>0.547098</td>\n",
       "      <td>0.576667</td>\n",
       "      <td>...</td>\n",
       "      <td>0.598248</td>\n",
       "      <td>0.588855</td>\n",
       "      <td>0.546892</td>\n",
       "      <td>0.472022</td>\n",
       "      <td>0.938571</td>\n",
       "      <td>0.128883</td>\n",
       "      <td>0.314300</td>\n",
       "      <td>0.135361</td>\n",
       "      <td>0.576513</td>\n",
       "      <td>0.605954</td>\n",
       "    </tr>\n",
       "    <tr>\n",
       "      <th>1571</th>\n",
       "      <td>0.004231</td>\n",
       "      <td>0.000000</td>\n",
       "      <td>0.465838</td>\n",
       "      <td>0.877347</td>\n",
       "      <td>0.579373</td>\n",
       "      <td>0.000000</td>\n",
       "      <td>0.327673</td>\n",
       "      <td>0.000000</td>\n",
       "      <td>0.813368</td>\n",
       "      <td>0.868037</td>\n",
       "      <td>...</td>\n",
       "      <td>0.564824</td>\n",
       "      <td>0.535924</td>\n",
       "      <td>0.473995</td>\n",
       "      <td>0.290054</td>\n",
       "      <td>0.952836</td>\n",
       "      <td>0.158194</td>\n",
       "      <td>0.000000</td>\n",
       "      <td>0.149890</td>\n",
       "      <td>0.503118</td>\n",
       "      <td>0.189205</td>\n",
       "    </tr>\n",
       "    <tr>\n",
       "      <th>2780</th>\n",
       "      <td>0.115757</td>\n",
       "      <td>0.145269</td>\n",
       "      <td>0.526979</td>\n",
       "      <td>0.564670</td>\n",
       "      <td>0.348390</td>\n",
       "      <td>0.131572</td>\n",
       "      <td>0.744508</td>\n",
       "      <td>0.000000</td>\n",
       "      <td>0.331854</td>\n",
       "      <td>0.319546</td>\n",
       "      <td>...</td>\n",
       "      <td>0.410468</td>\n",
       "      <td>0.219582</td>\n",
       "      <td>0.513392</td>\n",
       "      <td>0.530785</td>\n",
       "      <td>0.097911</td>\n",
       "      <td>0.033666</td>\n",
       "      <td>0.236553</td>\n",
       "      <td>0.243981</td>\n",
       "      <td>0.358021</td>\n",
       "      <td>0.671789</td>\n",
       "    </tr>\n",
       "    <tr>\n",
       "      <th>359</th>\n",
       "      <td>0.352514</td>\n",
       "      <td>0.428972</td>\n",
       "      <td>0.436790</td>\n",
       "      <td>0.098061</td>\n",
       "      <td>0.364200</td>\n",
       "      <td>0.392974</td>\n",
       "      <td>0.444264</td>\n",
       "      <td>0.000000</td>\n",
       "      <td>0.643698</td>\n",
       "      <td>0.644379</td>\n",
       "      <td>...</td>\n",
       "      <td>0.571540</td>\n",
       "      <td>0.492895</td>\n",
       "      <td>0.594842</td>\n",
       "      <td>0.517184</td>\n",
       "      <td>0.926896</td>\n",
       "      <td>0.122289</td>\n",
       "      <td>0.307932</td>\n",
       "      <td>0.292556</td>\n",
       "      <td>0.538192</td>\n",
       "      <td>0.461046</td>\n",
       "    </tr>\n",
       "    <tr>\n",
       "      <th>2252</th>\n",
       "      <td>0.108861</td>\n",
       "      <td>0.133891</td>\n",
       "      <td>0.503315</td>\n",
       "      <td>0.453176</td>\n",
       "      <td>0.500222</td>\n",
       "      <td>0.102569</td>\n",
       "      <td>0.268137</td>\n",
       "      <td>0.622734</td>\n",
       "      <td>0.716709</td>\n",
       "      <td>0.723174</td>\n",
       "      <td>...</td>\n",
       "      <td>0.822154</td>\n",
       "      <td>0.601854</td>\n",
       "      <td>0.544336</td>\n",
       "      <td>0.294137</td>\n",
       "      <td>0.968685</td>\n",
       "      <td>0.097563</td>\n",
       "      <td>0.313505</td>\n",
       "      <td>0.157120</td>\n",
       "      <td>0.462143</td>\n",
       "      <td>0.436946</td>\n",
       "    </tr>\n",
       "  </tbody>\n",
       "</table>\n",
       "<p>5 rows × 29 columns</p>\n",
       "</div>"
      ],
      "text/plain": [
       "      avgAnnCount  avgDeathsPerYear  TARGET_deathRate  incidenceRate  \\\n",
       "313      0.376126          0.452765          0.570635       0.238591   \n",
       "1571     0.004231          0.000000          0.465838       0.877347   \n",
       "2780     0.115757          0.145269          0.526979       0.564670   \n",
       "359      0.352514          0.428972          0.436790       0.098061   \n",
       "2252     0.108861          0.133891          0.503315       0.453176   \n",
       "\n",
       "      medIncome  popEst2015  povertyPercent  studyPerCap  MedianAge  \\\n",
       "313    0.425185    0.419128        0.512001     0.000000   0.547098   \n",
       "1571   0.579373    0.000000        0.327673     0.000000   0.813368   \n",
       "2780   0.348390    0.131572        0.744508     0.000000   0.331854   \n",
       "359    0.364200    0.392974        0.444264     0.000000   0.643698   \n",
       "2252   0.500222    0.102569        0.268137     0.622734   0.716709   \n",
       "\n",
       "      MedianAgeMale    ...      PctPrivateCoverage  PctEmpPrivCoverage  \\\n",
       "313        0.576667    ...                0.598248            0.588855   \n",
       "1571       0.868037    ...                0.564824            0.535924   \n",
       "2780       0.319546    ...                0.410468            0.219582   \n",
       "359        0.644379    ...                0.571540            0.492895   \n",
       "2252       0.723174    ...                0.822154            0.601854   \n",
       "\n",
       "      PctPublicCoverage  PctPublicCoverageAlone  PctWhite  PctBlack  PctAsian  \\\n",
       "313            0.546892                0.472022  0.938571  0.128883  0.314300   \n",
       "1571           0.473995                0.290054  0.952836  0.158194  0.000000   \n",
       "2780           0.513392                0.530785  0.097911  0.033666  0.236553   \n",
       "359            0.594842                0.517184  0.926896  0.122289  0.307932   \n",
       "2252           0.544336                0.294137  0.968685  0.097563  0.313505   \n",
       "\n",
       "      PctOtherRace  PctMarriedHouseholds  BirthRate  \n",
       "313       0.135361              0.576513   0.605954  \n",
       "1571      0.149890              0.503118   0.189205  \n",
       "2780      0.243981              0.358021   0.671789  \n",
       "359       0.292556              0.538192   0.461046  \n",
       "2252      0.157120              0.462143   0.436946  \n",
       "\n",
       "[5 rows x 29 columns]"
      ]
     },
     "execution_count": 23,
     "metadata": {},
     "output_type": "execute_result"
    }
   ],
   "source": [
    "df_train.head()"
   ]
  },
  {
   "cell_type": "code",
   "execution_count": 24,
   "metadata": {},
   "outputs": [],
   "source": [
    "y_train = df_train.pop('TARGET_deathRate')\n",
    "X_train = df_train"
   ]
  },
  {
   "cell_type": "markdown",
   "metadata": {},
   "source": [
    "# Building a model using RFE"
   ]
  },
  {
   "cell_type": "code",
   "execution_count": 25,
   "metadata": {},
   "outputs": [],
   "source": [
    "# Importing RFE and LinearRegression\n",
    "from sklearn.feature_selection import RFE\n",
    "from sklearn.linear_model import LinearRegression"
   ]
  },
  {
   "cell_type": "code",
   "execution_count": 26,
   "metadata": {},
   "outputs": [],
   "source": [
    "lm= LinearRegression()\n",
    "lm.fit(X_train,y_train)\n",
    "rfe = RFE(lm,20)\n",
    "rfe = rfe.fit(X_train,y_train)"
   ]
  },
  {
   "cell_type": "code",
   "execution_count": 27,
   "metadata": {},
   "outputs": [
    {
     "data": {
      "text/plain": [
       "[('avgAnnCount', True, 1),\n",
       " ('avgDeathsPerYear', True, 1),\n",
       " ('incidenceRate', True, 1),\n",
       " ('medIncome', True, 1),\n",
       " ('popEst2015', True, 1),\n",
       " ('povertyPercent', True, 1),\n",
       " ('studyPerCap', True, 1),\n",
       " ('MedianAge', True, 1),\n",
       " ('MedianAgeMale', True, 1),\n",
       " ('MedianAgeFemale', True, 1),\n",
       " ('AvgHouseholdSize', False, 5),\n",
       " ('PercentMarried', True, 1),\n",
       " ('PctNoHS18_24', True, 1),\n",
       " ('PctHS18_24', False, 2),\n",
       " ('PctBachDeg18_24', False, 7),\n",
       " ('PctHS25_Over', False, 6),\n",
       " ('PctBachDeg25_Over', True, 1),\n",
       " ('PctUnemployed16_Over', True, 1),\n",
       " ('PctPrivateCoverage', True, 1),\n",
       " ('PctEmpPrivCoverage', True, 1),\n",
       " ('PctPublicCoverage', False, 8),\n",
       " ('PctPublicCoverageAlone', True, 1),\n",
       " ('PctWhite', False, 9),\n",
       " ('PctBlack', True, 1),\n",
       " ('PctAsian', False, 3),\n",
       " ('PctOtherRace', True, 1),\n",
       " ('PctMarriedHouseholds', True, 1),\n",
       " ('BirthRate', False, 4)]"
      ]
     },
     "execution_count": 27,
     "metadata": {},
     "output_type": "execute_result"
    }
   ],
   "source": [
    "list(zip(X_train.columns, rfe.support_,rfe.ranking_))"
   ]
  },
  {
   "cell_type": "code",
   "execution_count": 28,
   "metadata": {},
   "outputs": [
    {
     "data": {
      "text/plain": [
       "Index(['avgAnnCount', 'avgDeathsPerYear', 'incidenceRate', 'medIncome',\n",
       "       'popEst2015', 'povertyPercent', 'studyPerCap', 'MedianAge',\n",
       "       'MedianAgeMale', 'MedianAgeFemale', 'PercentMarried', 'PctNoHS18_24',\n",
       "       'PctBachDeg25_Over', 'PctUnemployed16_Over', 'PctPrivateCoverage',\n",
       "       'PctEmpPrivCoverage', 'PctPublicCoverageAlone', 'PctBlack',\n",
       "       'PctOtherRace', 'PctMarriedHouseholds'],\n",
       "      dtype='object')"
      ]
     },
     "execution_count": 28,
     "metadata": {},
     "output_type": "execute_result"
    }
   ],
   "source": [
    "col = X_train.columns[rfe.support_]\n",
    "col"
   ]
  },
  {
   "cell_type": "code",
   "execution_count": 29,
   "metadata": {},
   "outputs": [
    {
     "data": {
      "text/plain": [
       "Index(['AvgHouseholdSize', 'PctHS18_24', 'PctBachDeg18_24', 'PctHS25_Over',\n",
       "       'PctPublicCoverage', 'PctWhite', 'PctAsian', 'BirthRate'],\n",
       "      dtype='object')"
      ]
     },
     "execution_count": 29,
     "metadata": {},
     "output_type": "execute_result"
    }
   ],
   "source": [
    "X_train.columns[~rfe.support_]"
   ]
  },
  {
   "cell_type": "code",
   "execution_count": 30,
   "metadata": {},
   "outputs": [],
   "source": [
    "X_train_rfe = X_train[col]"
   ]
  },
  {
   "cell_type": "code",
   "execution_count": 31,
   "metadata": {},
   "outputs": [],
   "source": [
    "import statsmodels.api as sm  \n",
    "X_train_rfe = sm.add_constant(X_train_rfe)"
   ]
  },
  {
   "cell_type": "code",
   "execution_count": 32,
   "metadata": {},
   "outputs": [],
   "source": [
    "lm = sm.OLS(y_train,X_train_rfe).fit()"
   ]
  },
  {
   "cell_type": "code",
   "execution_count": 33,
   "metadata": {},
   "outputs": [
    {
     "name": "stdout",
     "output_type": "stream",
     "text": [
      "                            OLS Regression Results                            \n",
      "==============================================================================\n",
      "Dep. Variable:       TARGET_deathRate   R-squared:                       0.805\n",
      "Model:                            OLS   Adj. R-squared:                  0.801\n",
      "Method:                 Least Squares   F-statistic:                     201.3\n",
      "Date:                Mon, 17 Aug 2020   Prob (F-statistic):               0.00\n",
      "Time:                        14:02:24   Log-Likelihood:                 1139.1\n",
      "No. Observations:                 998   AIC:                            -2236.\n",
      "Df Residuals:                     977   BIC:                            -2133.\n",
      "Df Model:                          20                                         \n",
      "Covariance Type:            nonrobust                                         \n",
      "==========================================================================================\n",
      "                             coef    std err          t      P>|t|      [0.025      0.975]\n",
      "------------------------------------------------------------------------------------------\n",
      "const                      0.1937      0.057      3.378      0.001       0.081       0.306\n",
      "avgAnnCount               -5.8507      0.169    -34.691      0.000      -6.182      -5.520\n",
      "avgDeathsPerYear           5.2319      0.119     43.971      0.000       4.998       5.465\n",
      "incidenceRate              0.6042      0.019     31.804      0.000       0.567       0.641\n",
      "medIncome                  0.0819      0.041      1.994      0.046       0.001       0.163\n",
      "popEst2015                 0.4320      0.110      3.920      0.000       0.216       0.648\n",
      "povertyPercent             0.0256      0.047      0.546      0.585      -0.066       0.118\n",
      "studyPerCap                0.0223      0.011      1.985      0.047       0.000       0.044\n",
      "MedianAge                  0.2524      0.203      1.243      0.214      -0.146       0.651\n",
      "MedianAgeMale             -0.0995      0.119     -0.835      0.404      -0.333       0.134\n",
      "MedianAgeFemale           -0.1660      0.109     -1.528      0.127      -0.379       0.047\n",
      "PercentMarried            -0.0766      0.034     -2.251      0.025      -0.143      -0.010\n",
      "PctNoHS18_24              -0.0279      0.016     -1.779      0.076      -0.059       0.003\n",
      "PctBachDeg25_Over         -0.0659      0.025     -2.624      0.009      -0.115      -0.017\n",
      "PctUnemployed16_Over       0.0701      0.021      3.412      0.001       0.030       0.110\n",
      "PctPrivateCoverage        -0.2320      0.041     -5.605      0.000      -0.313      -0.151\n",
      "PctEmpPrivCoverage         0.0895      0.032      2.770      0.006       0.026       0.153\n",
      "PctPublicCoverageAlone    -0.0705      0.034     -2.072      0.039      -0.137      -0.004\n",
      "PctBlack                   0.0319      0.013      2.456      0.014       0.006       0.057\n",
      "PctOtherRace              -0.0444      0.014     -3.144      0.002      -0.072      -0.017\n",
      "PctMarriedHouseholds       0.1038      0.032      3.259      0.001       0.041       0.166\n",
      "==============================================================================\n",
      "Omnibus:                       45.314   Durbin-Watson:                   1.942\n",
      "Prob(Omnibus):                  0.000   Jarque-Bera (JB):              109.935\n",
      "Skew:                           0.219   Prob(JB):                     1.34e-24\n",
      "Kurtosis:                       4.566   Cond. No.                         233.\n",
      "==============================================================================\n",
      "\n",
      "Warnings:\n",
      "[1] Standard Errors assume that the covariance matrix of the errors is correctly specified.\n"
     ]
    }
   ],
   "source": [
    "#Let's see the summary of our linear model\n",
    "print(lm.summary())"
   ]
  },
  {
   "cell_type": "markdown",
   "metadata": {},
   "source": [
    "Now we are dropping the variables which have high p-values."
   ]
  },
  {
   "cell_type": "code",
   "execution_count": 34,
   "metadata": {},
   "outputs": [
    {
     "name": "stdout",
     "output_type": "stream",
     "text": [
      "                            OLS Regression Results                            \n",
      "==============================================================================\n",
      "Dep. Variable:       TARGET_deathRate   R-squared:                       0.805\n",
      "Model:                            OLS   Adj. R-squared:                  0.801\n",
      "Method:                 Least Squares   F-statistic:                     212.0\n",
      "Date:                Mon, 17 Aug 2020   Prob (F-statistic):               0.00\n",
      "Time:                        14:02:27   Log-Likelihood:                 1138.9\n",
      "No. Observations:                 998   AIC:                            -2238.\n",
      "Df Residuals:                     978   BIC:                            -2140.\n",
      "Df Model:                          19                                         \n",
      "Covariance Type:            nonrobust                                         \n",
      "==========================================================================================\n",
      "                             coef    std err          t      P>|t|      [0.025      0.975]\n",
      "------------------------------------------------------------------------------------------\n",
      "const                      0.2138      0.044      4.868      0.000       0.128       0.300\n",
      "avgAnnCount               -5.8588      0.168    -34.888      0.000      -6.188      -5.529\n",
      "avgDeathsPerYear           5.2344      0.119     44.042      0.000       5.001       5.468\n",
      "incidenceRate              0.6058      0.019     32.304      0.000       0.569       0.643\n",
      "medIncome                  0.0673      0.031      2.164      0.031       0.006       0.128\n",
      "popEst2015                 0.4373      0.110      3.986      0.000       0.222       0.653\n",
      "studyPerCap                0.0225      0.011      1.998      0.046       0.000       0.045\n",
      "MedianAge                  0.2435      0.202      1.203      0.229      -0.154       0.640\n",
      "MedianAgeMale             -0.0957      0.119     -0.805      0.421      -0.329       0.138\n",
      "MedianAgeFemale           -0.1622      0.108     -1.498      0.135      -0.375       0.050\n",
      "PercentMarried            -0.0797      0.034     -2.379      0.018      -0.145      -0.014\n",
      "PctNoHS18_24              -0.0277      0.016     -1.767      0.077      -0.059       0.003\n",
      "PctBachDeg25_Over         -0.0652      0.025     -2.603      0.009      -0.114      -0.016\n",
      "PctUnemployed16_Over       0.0720      0.020      3.559      0.000       0.032       0.112\n",
      "PctPrivateCoverage        -0.2360      0.041     -5.798      0.000      -0.316      -0.156\n",
      "PctEmpPrivCoverage         0.0882      0.032      2.739      0.006       0.025       0.151\n",
      "PctPublicCoverageAlone    -0.0692      0.034     -2.038      0.042      -0.136      -0.003\n",
      "PctBlack                   0.0333      0.013      2.611      0.009       0.008       0.058\n",
      "PctOtherRace              -0.0441      0.014     -3.126      0.002      -0.072      -0.016\n",
      "PctMarriedHouseholds       0.1050      0.032      3.307      0.001       0.043       0.167\n",
      "==============================================================================\n",
      "Omnibus:                       45.389   Durbin-Watson:                   1.940\n",
      "Prob(Omnibus):                  0.000   Jarque-Bera (JB):              109.043\n",
      "Skew:                           0.224   Prob(JB):                     2.10e-24\n",
      "Kurtosis:                       4.556   Cond. No.                         226.\n",
      "==============================================================================\n",
      "\n",
      "Warnings:\n",
      "[1] Standard Errors assume that the covariance matrix of the errors is correctly specified.\n"
     ]
    }
   ],
   "source": [
    "x = X_train_rfe.drop(['povertyPercent'],axis=1)\n",
    "import statsmodels.api as sm\n",
    "x_train_lm1 = sm.add_constant(x)\n",
    "lm1 = sm.OLS(y_train,x_train_lm1).fit() \n",
    "print(lm1.summary())"
   ]
  },
  {
   "cell_type": "code",
   "execution_count": 35,
   "metadata": {},
   "outputs": [
    {
     "name": "stdout",
     "output_type": "stream",
     "text": [
      "                            OLS Regression Results                            \n",
      "==============================================================================\n",
      "Dep. Variable:       TARGET_deathRate   R-squared:                       0.804\n",
      "Model:                            OLS   Adj. R-squared:                  0.801\n",
      "Method:                 Least Squares   F-statistic:                     251.8\n",
      "Date:                Mon, 17 Aug 2020   Prob (F-statistic):               0.00\n",
      "Time:                        14:02:29   Log-Likelihood:                 1137.7\n",
      "No. Observations:                 998   AIC:                            -2241.\n",
      "Df Residuals:                     981   BIC:                            -2158.\n",
      "Df Model:                          16                                         \n",
      "Covariance Type:            nonrobust                                         \n",
      "==========================================================================================\n",
      "                             coef    std err          t      P>|t|      [0.025      0.975]\n",
      "------------------------------------------------------------------------------------------\n",
      "const                      0.2042      0.042      4.899      0.000       0.122       0.286\n",
      "avgAnnCount               -5.8823      0.150    -39.116      0.000      -6.177      -5.587\n",
      "avgDeathsPerYear           5.2362      0.118     44.220      0.000       5.004       5.469\n",
      "incidenceRate              0.6086      0.017     35.516      0.000       0.575       0.642\n",
      "medIncome                  0.0717      0.031      2.328      0.020       0.011       0.132\n",
      "popEst2015                 0.4596      0.079      5.846      0.000       0.305       0.614\n",
      "studyPerCap                0.0232      0.011      2.067      0.039       0.001       0.045\n",
      "PercentMarried            -0.0640      0.031     -2.043      0.041      -0.125      -0.003\n",
      "PctNoHS18_24              -0.0308      0.016     -1.982      0.048      -0.061      -0.000\n",
      "PctBachDeg25_Over         -0.0641      0.025     -2.602      0.009      -0.112      -0.016\n",
      "PctUnemployed16_Over       0.0751      0.020      3.796      0.000       0.036       0.114\n",
      "PctPrivateCoverage        -0.2482      0.039     -6.358      0.000      -0.325      -0.172\n",
      "PctEmpPrivCoverage         0.0947      0.031      3.063      0.002       0.034       0.155\n",
      "PctPublicCoverageAlone    -0.0718      0.034     -2.124      0.034      -0.138      -0.005\n",
      "PctBlack                   0.0335      0.013      2.676      0.008       0.009       0.058\n",
      "PctOtherRace              -0.0446      0.014     -3.256      0.001      -0.071      -0.018\n",
      "PctMarriedHouseholds       0.0947      0.031      3.056      0.002       0.034       0.156\n",
      "==============================================================================\n",
      "Omnibus:                       46.109   Durbin-Watson:                   1.936\n",
      "Prob(Omnibus):                  0.000   Jarque-Bera (JB):              114.658\n",
      "Skew:                           0.215   Prob(JB):                     1.27e-25\n",
      "Kurtosis:                       4.604   Cond. No.                         155.\n",
      "==============================================================================\n",
      "\n",
      "Warnings:\n",
      "[1] Standard Errors assume that the covariance matrix of the errors is correctly specified.\n"
     ]
    }
   ],
   "source": [
    "x = x.drop(['MedianAgeMale','MedianAge','MedianAgeFemale'],axis=1)\n",
    "import statsmodels.api as sm\n",
    "x_train_lm2 = sm.add_constant(x)\n",
    "lm2 = sm.OLS(y_train,x_train_lm2).fit() \n",
    "print(lm2.summary())"
   ]
  },
  {
   "cell_type": "code",
   "execution_count": 36,
   "metadata": {},
   "outputs": [
    {
     "name": "stdout",
     "output_type": "stream",
     "text": [
      "                            OLS Regression Results                            \n",
      "==============================================================================\n",
      "Dep. Variable:       TARGET_deathRate   R-squared:                       0.803\n",
      "Model:                            OLS   Adj. R-squared:                  0.800\n",
      "Method:                 Least Squares   F-statistic:                     267.5\n",
      "Date:                Mon, 17 Aug 2020   Prob (F-statistic):               0.00\n",
      "Time:                        14:02:30   Log-Likelihood:                 1135.7\n",
      "No. Observations:                 998   AIC:                            -2239.\n",
      "Df Residuals:                     982   BIC:                            -2161.\n",
      "Df Model:                          15                                         \n",
      "Covariance Type:            nonrobust                                         \n",
      "==========================================================================================\n",
      "                             coef    std err          t      P>|t|      [0.025      0.975]\n",
      "------------------------------------------------------------------------------------------\n",
      "const                      0.1756      0.039      4.484      0.000       0.099       0.252\n",
      "avgAnnCount               -5.8959      0.150    -39.189      0.000      -6.191      -5.601\n",
      "avgDeathsPerYear           5.2353      0.119     44.147      0.000       5.003       5.468\n",
      "incidenceRate              0.6116      0.017     35.777      0.000       0.578       0.645\n",
      "medIncome                  0.0635      0.031      2.078      0.038       0.004       0.124\n",
      "popEst2015                 0.4764      0.078      6.085      0.000       0.323       0.630\n",
      "studyPerCap                0.0236      0.011      2.100      0.036       0.002       0.046\n",
      "PercentMarried            -0.0655      0.031     -2.089      0.037      -0.127      -0.004\n",
      "PctBachDeg25_Over         -0.0556      0.024     -2.287      0.022      -0.103      -0.008\n",
      "PctUnemployed16_Over       0.0770      0.020      3.891      0.000       0.038       0.116\n",
      "PctPrivateCoverage        -0.2334      0.038     -6.083      0.000      -0.309      -0.158\n",
      "PctEmpPrivCoverage         0.0977      0.031      3.157      0.002       0.037       0.158\n",
      "PctPublicCoverageAlone    -0.0658      0.034     -1.952      0.051      -0.132       0.000\n",
      "PctBlack                   0.0315      0.012      2.525      0.012       0.007       0.056\n",
      "PctOtherRace              -0.0473      0.014     -3.467      0.001      -0.074      -0.021\n",
      "PctMarriedHouseholds       0.0927      0.031      2.988      0.003       0.032       0.154\n",
      "==============================================================================\n",
      "Omnibus:                       46.327   Durbin-Watson:                   1.935\n",
      "Prob(Omnibus):                  0.000   Jarque-Bera (JB):              115.412\n",
      "Skew:                           0.216   Prob(JB):                     8.68e-26\n",
      "Kurtosis:                       4.609   Cond. No.                         150.\n",
      "==============================================================================\n",
      "\n",
      "Warnings:\n",
      "[1] Standard Errors assume that the covariance matrix of the errors is correctly specified.\n"
     ]
    }
   ],
   "source": [
    "x = x.drop(['PctNoHS18_24'],axis=1)\n",
    "import statsmodels.api as sm\n",
    "x_train_lm3 = sm.add_constant(x)\n",
    "lm3 = sm.OLS(y_train,x_train_lm3).fit() \n",
    "print(lm3.summary())"
   ]
  },
  {
   "cell_type": "code",
   "execution_count": 37,
   "metadata": {},
   "outputs": [
    {
     "name": "stdout",
     "output_type": "stream",
     "text": [
      "                            OLS Regression Results                            \n",
      "==============================================================================\n",
      "Dep. Variable:       TARGET_deathRate   R-squared:                       0.801\n",
      "Model:                            OLS   Adj. R-squared:                  0.799\n",
      "Method:                 Least Squares   F-statistic:                     305.5\n",
      "Date:                Mon, 17 Aug 2020   Prob (F-statistic):               0.00\n",
      "Time:                        14:02:31   Log-Likelihood:                 1130.8\n",
      "No. Observations:                 998   AIC:                            -2234.\n",
      "Df Residuals:                     984   BIC:                            -2165.\n",
      "Df Model:                          13                                         \n",
      "Covariance Type:            nonrobust                                         \n",
      "========================================================================================\n",
      "                           coef    std err          t      P>|t|      [0.025      0.975]\n",
      "----------------------------------------------------------------------------------------\n",
      "const                    0.1064      0.026      4.137      0.000       0.056       0.157\n",
      "avgAnnCount             -5.9115      0.151    -39.273      0.000      -6.207      -5.616\n",
      "avgDeathsPerYear         5.2008      0.118     43.938      0.000       4.969       5.433\n",
      "incidenceRate            0.6083      0.017     35.544      0.000       0.575       0.642\n",
      "popEst2015               0.5251      0.077      6.827      0.000       0.374       0.676\n",
      "studyPerCap              0.0217      0.011      1.927      0.054      -0.000       0.044\n",
      "PercentMarried          -0.0664      0.031     -2.109      0.035      -0.128      -0.005\n",
      "PctBachDeg25_Over       -0.0289      0.022     -1.306      0.192      -0.072       0.015\n",
      "PctUnemployed16_Over     0.0701      0.020      3.590      0.000       0.032       0.108\n",
      "PctPrivateCoverage      -0.1712      0.031     -5.519      0.000      -0.232      -0.110\n",
      "PctEmpPrivCoverage       0.1143      0.030      3.826      0.000       0.056       0.173\n",
      "PctBlack                 0.0359      0.012      2.885      0.004       0.011       0.060\n",
      "PctOtherRace            -0.0360      0.013     -2.723      0.007      -0.062      -0.010\n",
      "PctMarriedHouseholds     0.1127      0.030      3.704      0.000       0.053       0.172\n",
      "==============================================================================\n",
      "Omnibus:                       49.772   Durbin-Watson:                   1.938\n",
      "Prob(Omnibus):                  0.000   Jarque-Bera (JB):              123.241\n",
      "Skew:                           0.247   Prob(JB):                     1.73e-27\n",
      "Kurtosis:                       4.649   Cond. No.                         141.\n",
      "==============================================================================\n",
      "\n",
      "Warnings:\n",
      "[1] Standard Errors assume that the covariance matrix of the errors is correctly specified.\n"
     ]
    }
   ],
   "source": [
    "x = x.drop(['PctPublicCoverageAlone','medIncome',],axis=1)\n",
    "import statsmodels.api as sm\n",
    "x_train_lm4 = sm.add_constant(x)\n",
    "lm4 = sm.OLS(y_train,x_train_lm4).fit() \n",
    "print(lm4.summary())"
   ]
  },
  {
   "cell_type": "code",
   "execution_count": 38,
   "metadata": {},
   "outputs": [
    {
     "name": "stdout",
     "output_type": "stream",
     "text": [
      "                            OLS Regression Results                            \n",
      "==============================================================================\n",
      "Dep. Variable:       TARGET_deathRate   R-squared:                       0.799\n",
      "Model:                            OLS   Adj. R-squared:                  0.797\n",
      "Method:                 Least Squares   F-statistic:                     393.3\n",
      "Date:                Mon, 17 Aug 2020   Prob (F-statistic):               0.00\n",
      "Time:                        14:02:32   Log-Likelihood:                 1125.7\n",
      "No. Observations:                 998   AIC:                            -2229.\n",
      "Df Residuals:                     987   BIC:                            -2175.\n",
      "Df Model:                          10                                         \n",
      "Covariance Type:            nonrobust                                         \n",
      "========================================================================================\n",
      "                           coef    std err          t      P>|t|      [0.025      0.975]\n",
      "----------------------------------------------------------------------------------------\n",
      "const                    0.0719      0.022      3.296      0.001       0.029       0.115\n",
      "avgAnnCount             -5.9496      0.145    -41.160      0.000      -6.233      -5.666\n",
      "avgDeathsPerYear         5.2357      0.111     47.084      0.000       5.017       5.454\n",
      "incidenceRate            0.6131      0.017     36.345      0.000       0.580       0.646\n",
      "popEst2015               0.5341      0.075      7.136      0.000       0.387       0.681\n",
      "PctUnemployed16_Over     0.0839      0.019      4.494      0.000       0.047       0.120\n",
      "PctPrivateCoverage      -0.1994      0.028     -7.045      0.000      -0.255      -0.144\n",
      "PctEmpPrivCoverage       0.1442      0.028      5.175      0.000       0.090       0.199\n",
      "PctBlack                 0.0451      0.012      3.790      0.000       0.022       0.068\n",
      "PctOtherRace            -0.0338      0.013     -2.573      0.010      -0.060      -0.008\n",
      "PctMarriedHouseholds     0.0641      0.018      3.541      0.000       0.029       0.100\n",
      "==============================================================================\n",
      "Omnibus:                       49.968   Durbin-Watson:                   1.933\n",
      "Prob(Omnibus):                  0.000   Jarque-Bera (JB):              124.135\n",
      "Skew:                           0.247   Prob(JB):                     1.11e-27\n",
      "Kurtosis:                       4.656   Cond. No.                         126.\n",
      "==============================================================================\n",
      "\n",
      "Warnings:\n",
      "[1] Standard Errors assume that the covariance matrix of the errors is correctly specified.\n"
     ]
    }
   ],
   "source": [
    "x = x.drop(['PctBachDeg25_Over','studyPerCap','PercentMarried'],axis=1)\n",
    "import statsmodels.api as sm\n",
    "x_train_lm5 = sm.add_constant(x)\n",
    "lm5 = sm.OLS(y_train,x_train_lm5).fit() \n",
    "print(lm5.summary())"
   ]
  },
  {
   "cell_type": "code",
   "execution_count": 39,
   "metadata": {},
   "outputs": [
    {
     "name": "stdout",
     "output_type": "stream",
     "text": [
      "                            OLS Regression Results                            \n",
      "==============================================================================\n",
      "Dep. Variable:       TARGET_deathRate   R-squared:                       0.798\n",
      "Model:                            OLS   Adj. R-squared:                  0.796\n",
      "Method:                 Least Squares   F-statistic:                     433.8\n",
      "Date:                Mon, 17 Aug 2020   Prob (F-statistic):               0.00\n",
      "Time:                        14:02:33   Log-Likelihood:                 1122.3\n",
      "No. Observations:                 998   AIC:                            -2225.\n",
      "Df Residuals:                     988   BIC:                            -2176.\n",
      "Df Model:                           9                                         \n",
      "Covariance Type:            nonrobust                                         \n",
      "========================================================================================\n",
      "                           coef    std err          t      P>|t|      [0.025      0.975]\n",
      "----------------------------------------------------------------------------------------\n",
      "const                    0.0497      0.020      2.474      0.014       0.010       0.089\n",
      "avgAnnCount             -5.9569      0.145    -41.102      0.000      -6.241      -5.672\n",
      "avgDeathsPerYear         5.2738      0.111     47.720      0.000       5.057       5.491\n",
      "incidenceRate            0.6186      0.017     36.864      0.000       0.586       0.652\n",
      "popEst2015               0.4931      0.073      6.723      0.000       0.349       0.637\n",
      "PctUnemployed16_Over     0.0906      0.019      4.886      0.000       0.054       0.127\n",
      "PctPrivateCoverage      -0.1926      0.028     -6.816      0.000      -0.248      -0.137\n",
      "PctEmpPrivCoverage       0.1507      0.028      5.416      0.000       0.096       0.205\n",
      "PctBlack                 0.0431      0.012      3.624      0.000       0.020       0.066\n",
      "PctMarriedHouseholds     0.0646      0.018      3.560      0.000       0.029       0.100\n",
      "==============================================================================\n",
      "Omnibus:                       53.043   Durbin-Watson:                   1.931\n",
      "Prob(Omnibus):                  0.000   Jarque-Bera (JB):              132.045\n",
      "Skew:                           0.270   Prob(JB):                     2.12e-29\n",
      "Kurtosis:                       4.698   Cond. No.                         123.\n",
      "==============================================================================\n",
      "\n",
      "Warnings:\n",
      "[1] Standard Errors assume that the covariance matrix of the errors is correctly specified.\n"
     ]
    }
   ],
   "source": [
    "x = x.drop(['PctOtherRace'],axis=1)\n",
    "import statsmodels.api as sm\n",
    "x_train_lm6 = sm.add_constant(x)\n",
    "lm6 = sm.OLS(y_train,x_train_lm6).fit() \n",
    "print(lm6.summary())"
   ]
  },
  {
   "cell_type": "code",
   "execution_count": 40,
   "metadata": {},
   "outputs": [
    {
     "name": "stdout",
     "output_type": "stream",
     "text": [
      "                            OLS Regression Results                            \n",
      "==============================================================================\n",
      "Dep. Variable:       TARGET_deathRate   R-squared:                       0.798\n",
      "Model:                            OLS   Adj. R-squared:                  0.796\n",
      "Method:                 Least Squares   F-statistic:                     433.8\n",
      "Date:                Mon, 17 Aug 2020   Prob (F-statistic):               0.00\n",
      "Time:                        14:02:40   Log-Likelihood:                 1122.3\n",
      "No. Observations:                 998   AIC:                            -2225.\n",
      "Df Residuals:                     988   BIC:                            -2176.\n",
      "Df Model:                           9                                         \n",
      "Covariance Type:            nonrobust                                         \n",
      "========================================================================================\n",
      "                           coef    std err          t      P>|t|      [0.025      0.975]\n",
      "----------------------------------------------------------------------------------------\n",
      "const                    0.0497      0.020      2.474      0.014       0.010       0.089\n",
      "avgAnnCount             -5.9569      0.145    -41.102      0.000      -6.241      -5.672\n",
      "avgDeathsPerYear         5.2738      0.111     47.720      0.000       5.057       5.491\n",
      "incidenceRate            0.6186      0.017     36.864      0.000       0.586       0.652\n",
      "popEst2015               0.4931      0.073      6.723      0.000       0.349       0.637\n",
      "PctUnemployed16_Over     0.0906      0.019      4.886      0.000       0.054       0.127\n",
      "PctPrivateCoverage      -0.1926      0.028     -6.816      0.000      -0.248      -0.137\n",
      "PctEmpPrivCoverage       0.1507      0.028      5.416      0.000       0.096       0.205\n",
      "PctBlack                 0.0431      0.012      3.624      0.000       0.020       0.066\n",
      "PctMarriedHouseholds     0.0646      0.018      3.560      0.000       0.029       0.100\n",
      "==============================================================================\n",
      "Omnibus:                       53.043   Durbin-Watson:                   1.931\n",
      "Prob(Omnibus):                  0.000   Jarque-Bera (JB):              132.045\n",
      "Skew:                           0.270   Prob(JB):                     2.12e-29\n",
      "Kurtosis:                       4.698   Cond. No.                         123.\n",
      "==============================================================================\n",
      "\n",
      "Warnings:\n",
      "[1] Standard Errors assume that the covariance matrix of the errors is correctly specified.\n"
     ]
    }
   ],
   "source": [
    "x = x.drop(['const'],axis=1)\n",
    "import statsmodels.api as sm\n",
    "x_train_lm7 = sm.add_constant(x)\n",
    "lm7 = sm.OLS(y_train,x_train_lm7).fit() \n",
    "print(lm7.summary())"
   ]
  },
  {
   "cell_type": "markdown",
   "metadata": {},
   "source": [
    "# Residual Analysis "
   ]
  },
  {
   "cell_type": "code",
   "execution_count": 42,
   "metadata": {},
   "outputs": [],
   "source": [
    "import matplotlib.pyplot as plt\n",
    "import seaborn as sns\n",
    "%matplotlib inline"
   ]
  },
  {
   "cell_type": "code",
   "execution_count": 43,
   "metadata": {},
   "outputs": [],
   "source": [
    "y_train_death= lm7.predict(x_train_lm7)"
   ]
  },
  {
   "cell_type": "code",
   "execution_count": 44,
   "metadata": {},
   "outputs": [
    {
     "data": {
      "text/plain": [
       "Text(0.5, 0, 'Errors')"
      ]
     },
     "execution_count": 44,
     "metadata": {},
     "output_type": "execute_result"
    },
    {
     "data": {
      "image/png": "[encoded data removed]",
      "text/plain": [
       "<Figure size 432x288 with 1 Axes>"
      ]
     },
     "metadata": {
      "needs_background": "light"
     },
     "output_type": "display_data"
    }
   ],
   "source": [
    "# Plot the histogram of the error terms\n",
    "fig = plt.figure()\n",
    "sns.distplot((y_train - y_train_death), bins = 20)\n",
    "fig.suptitle('Error Terms', fontsize = 20)                  # Plot heading \n",
    "plt.xlabel('Errors', fontsize = 18)"
   ]
  },
  {
   "cell_type": "markdown",
   "metadata": {},
   "source": [
    "# Making Predictions"
   ]
  },
  {
   "cell_type": "code",
   "execution_count": 45,
   "metadata": {},
   "outputs": [],
   "source": [
    "df_test[:]=scaler.fit_transform(df_test[:])"
   ]
  },
  {
   "cell_type": "code",
   "execution_count": 46,
   "metadata": {},
   "outputs": [],
   "source": [
    "y_test = df_test.pop('TARGET_deathRate')\n",
    "\n",
    "X_test =df_test"
   ]
  },
  {
   "cell_type": "code",
   "execution_count": 47,
   "metadata": {},
   "outputs": [],
   "source": [
    "x_test_m4= X_test[x.columns]\n",
    "x_test_m4 = sm.add_constant(x_test_m4)"
   ]
  },
  {
   "cell_type": "code",
   "execution_count": 49,
   "metadata": {},
   "outputs": [],
   "source": [
    "Y_p = lm7.predict(x_test_m4)"
   ]
  },
  {
   "cell_type": "markdown",
   "metadata": {},
   "source": [
    "# Model evaluation"
   ]
  },
  {
   "cell_type": "code",
   "execution_count": 50,
   "metadata": {},
   "outputs": [
    {
     "data": {
      "text/plain": [
       "Text(0, 0.5, 'y_test')"
      ]
     },
     "execution_count": 50,
     "metadata": {},
     "output_type": "execute_result"
    },
    {
     "data": {
      "image/png": "[encoded data removed]",
      "text/plain": [
       "<Figure size 432x288 with 1 Axes>"
      ]
     },
     "metadata": {
      "needs_background": "light"
     },
     "output_type": "display_data"
    }
   ],
   "source": [
    "#plotting t_test and y_pre to understand \n",
    "fig= plt.figure()\n",
    "#ax.plot([x_train_new1.min(), x_train_new1.max()], [x_train_new1.min(), x_train_new1.max()], 'r', lw=4)\n",
    "plt.scatter(y_test,Y_p )\n",
    "fig.suptitle('y_test vs Y_p', fontsize = 18)\n",
    "plt.xlabel('X_test',fontsize = 12)\n",
    "plt.ylabel('y_test',fontsize = 10)"
   ]
  },
  {
   "cell_type": "code",
   "execution_count": 51,
   "metadata": {},
   "outputs": [
    {
     "data": {
      "text/plain": [
       "const                   0.049670\n",
       "avgAnnCount            -5.956881\n",
       "avgDeathsPerYear        5.273835\n",
       "incidenceRate           0.618586\n",
       "popEst2015              0.493050\n",
       "PctUnemployed16_Over    0.090560\n",
       "PctPrivateCoverage     -0.192612\n",
       "PctEmpPrivCoverage      0.150706\n",
       "PctBlack                0.043139\n",
       "PctMarriedHouseholds    0.064609\n",
       "dtype: float64"
      ]
     },
     "execution_count": 51,
     "metadata": {},
     "output_type": "execute_result"
    }
   ],
   "source": [
    "lm7.params"
   ]
  },
  {
   "cell_type": "markdown",
   "metadata": {},
   "source": [
    "# Conclusion"
   ]
  },
  {
   "cell_type": "markdown",
   "metadata": {},
   "source": [
    "# Best fit line"
   ]
  },
  {
   "cell_type": "markdown",
   "metadata": {},
   "source": [
    "TARGET_deathRate= 0.049670-5.956881*avgAnnCount+5.273835*avgDeathsPerYear+0.618586*incidenceRate+0.493050*popEst2015+0.090560*PctUnemployed16_Over\n",
    "-0.192612*PctPrivateCoverage+0.150706*PctEmpPrivCoverage+0.043139*PctBlack+0.064609*PctMarriedHouseholds"
   ]
  },
  {
   "cell_type": "code",
   "execution_count": null,
   "metadata": {},
   "outputs": [],
   "source": []
  }
 ],
 "metadata": {
  "kernelspec": {
   "display_name": "Python 3",
   "language": "python",
   "name": "python3"
  },
  "language_info": {
   "codemirror_mode": {
    "name": "ipython",
    "version": 3
   },
   "file_extension": ".py",
   "mimetype": "text/x-python",
   "name": "python",
   "nbconvert_exporter": "python",
   "pygments_lexer": "ipython3",
   "version": "3.7.1"
  }
 },
 "nbformat": 4,
 "nbformat_minor": 2
}
